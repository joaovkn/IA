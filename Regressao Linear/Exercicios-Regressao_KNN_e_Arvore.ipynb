{
 "cells": [
  {
   "cell_type": "markdown",
   "metadata": {},
   "source": [
    "## KNN e Árvore de Regressão\n",
    "\n",
    "O objetivo deste exercício é se aprofundar nos conceitos de regressão e implementar os algoritmos de K-vizinhos mais próximos (KNN) e Árvore de Regressão.\n",
    "\n",
    "Utilizaremos as mesmas bases de dados do exercício anterior:"
   ]
  },
  {
   "cell_type": "code",
   "execution_count": 1,
   "metadata": {},
   "outputs": [],
   "source": [
    "import pandas as pd\n",
    "\n",
    "dados_adv = pd.read_csv('data/Advertising.csv', index_col=0)\n",
    "\n",
    "dados_por = pd.read_csv('data/Portland_housePrices.csv', index_col=None)\n",
    "\n",
    "X = dados_por.loc[:,['tamanho']]\n",
    "y = dados_por.loc[:,['preco']]"
   ]
  },
  {
   "cell_type": "markdown",
   "metadata": {},
   "source": [
    "O algoritmo KNN é implementado pela classe <a href=\"https://scikit-learn.org/stable/modules/generated/sklearn.neighbors.KNeighborsRegressor.html\">KNeighborsRegressor</a>:"
   ]
  },
  {
   "cell_type": "code",
   "execution_count": 2,
   "metadata": {},
   "outputs": [
    {
     "data": {
      "text/plain": [
       "KNeighborsRegressor(n_neighbors=2)"
      ]
     },
     "execution_count": 2,
     "metadata": {},
     "output_type": "execute_result"
    }
   ],
   "source": [
    "from sklearn.neighbors import KNeighborsRegressor\n",
    "neigh = KNeighborsRegressor(n_neighbors=2,weights='uniform')\n",
    "neigh.fit(X,y)"
   ]
  },
  {
   "cell_type": "markdown",
   "metadata": {},
   "source": [
    "Aqui, o algoritmo é configurado com K = 2 e o peso de cada instância é definido uniformemente.\n",
    "\n",
    "O \"formato\" do modelo aprendido pelo KNN é bem diferente do aprendido pela regressão linear:"
   ]
  },
  {
   "cell_type": "code",
   "execution_count": 3,
   "metadata": {},
   "outputs": [
    {
     "data": {
      "text/plain": [
       "Text(0, 0.5, 'Preço')"
      ]
     },
     "execution_count": 3,
     "metadata": {},
     "output_type": "execute_result"
    },
    {
     "data": {
      "image/png": "[encoded data removed]",
      "text/plain": [
       "<Figure size 432x288 with 1 Axes>"
      ]
     },
     "metadata": {
      "needs_background": "light"
     },
     "output_type": "display_data"
    }
   ],
   "source": [
    "from sklearn.linear_model import LinearRegression\n",
    "from matplotlib import pyplot as plt\n",
    "import numpy as np\n",
    "\n",
    "\n",
    "linear = LinearRegression().fit(X,y)\n",
    "\n",
    "T = np.linspace(min(X.values.ravel()),max(X.values.ravel()), 500 )[:, np.newaxis]\n",
    "y_ = neigh.predict(T)\n",
    "\n",
    "\n",
    "plt.scatter(X, y,color='g')\n",
    "plt.plot(T, y_,color='b')\n",
    "plt.plot(X, linear.predict(X),color='r')\n",
    "\n",
    "plt.xlabel('Tamanho (pe2)')\n",
    "plt.ylabel('Preço')"
   ]
  },
  {
   "cell_type": "markdown",
   "metadata": {},
   "source": [
    "A parametrização K e o peso das instâncias podem ser alteradas no momento da instanciação do objeto, por exemplo:\n",
    "    \n",
    "```python\n",
    "    neigh = KNeighborsRegressor(n_neighbors=3,weights='uniform') # K = 3, peso uniforme\n",
    "    neigh = KNeighborsRegressor(n_neighbors=2,weights='distance') # K = 2, peso baseado na distância\n",
    "```    \n",
    "\n",
    "## Exercício 1\n",
    "\n",
    "Para as duas bases de treinamento de regressão (<i>Advertising</i> e <i>Portland_housePrices</i>), avalie quais são as melhores parametrizações (use inspeção visual e RSS/R^2).\n",
    "    \n",
    "    "
   ]
  },
  {
   "cell_type": "code",
   "execution_count": 4,
   "metadata": {},
   "outputs": [],
   "source": [
    "from sklearn.metrics import r2_score\n",
    "from sklearn.metrics import mean_squared_error\n",
    "from matplotlib import pyplot as plt\n",
    "import time\n",
    "\n",
    "split = 0.3\n",
    "\n",
    "div1 = int(split * len(X))\n",
    "xtrain = X[:div1]\n",
    "xtest = X[div1:]\n",
    "\n",
    "div2 = int(split * len(y))\n",
    "ytrain = y[:div2]\n",
    "ytest = y[div2:]\n",
    "\n",
    "\n",
    "# reg = LinearRegression().fit(xtrain,ytrain)\n",
    "# reg\n",
    "\n",
    "def calc_rss(y,predicted):\n",
    "    return float(((predicted - y) ** 2).sum())\n",
    "    \n",
    "def calc_r2(y,predicted):\n",
    "    return r2_score(predicted,y)\n",
    "\n",
    "def calc_mse(y, predicted):\n",
    "    return mean_squared_error(predicted, y, squared=False)"
   ]
  },
  {
   "cell_type": "code",
   "execution_count": 5,
   "metadata": {},
   "outputs": [
    {
     "name": "stdout",
     "output_type": "stream",
     "text": [
      "peso uniforme:\n",
      "208285481407.55554\n",
      "0.33202151477095565\n",
      "79446.09024221651\n"
     ]
    }
   ],
   "source": [
    "neigh = KNeighborsRegressor(n_neighbors=3,weights='uniform')\n",
    "neigh.fit(xtrain,ytrain)\n",
    "\n",
    "rssr = calc_rss(ytest, neigh.predict(xtest))\n",
    "r2r = calc_r2(ytest, neigh.predict(xtest))\n",
    "mser = calc_mse(ytest, neigh.predict(xtest))\n",
    "\n",
    "print(\"peso uniforme:\")\n",
    "print(rssr)\n",
    "print(r2r)\n",
    "print(mser)"
   ]
  },
  {
   "cell_type": "code",
   "execution_count": 6,
   "metadata": {},
   "outputs": [
    {
     "name": "stdout",
     "output_type": "stream",
     "text": [
      "peso baseado na distância:\n",
      "203196171898.95093\n",
      "0.5670064756782321\n",
      "78469.48295046721\n"
     ]
    }
   ],
   "source": [
    "neigh = KNeighborsRegressor(n_neighbors=2,weights='distance')\n",
    "neigh.fit(xtrain,ytrain)\n",
    "\n",
    "rssr = calc_rss(ytest, neigh.predict(xtest))\n",
    "r2r = calc_r2(ytest, neigh.predict(xtest))\n",
    "mser = calc_mse(ytest, neigh.predict(xtest))\n",
    "\n",
    "print(\"peso baseado na distância:\")\n",
    "print(rssr)\n",
    "print(r2r)\n",
    "print(mser)"
   ]
  },
  {
   "cell_type": "code",
   "execution_count": 7,
   "metadata": {},
   "outputs": [],
   "source": [
    "dados_adv = pd.read_csv('data/Advertising.csv', index_col=0)\n",
    "dados_adv = dados_adv.sample(frac=1)\n",
    "\n",
    "#TV, radio,newspaper, sales\n",
    "X2 = dados_adv.loc[:,['TV', 'radio', 'newspaper']]\n",
    "y2 = dados_adv.loc[:,['sales']]"
   ]
  },
  {
   "cell_type": "code",
   "execution_count": 8,
   "metadata": {},
   "outputs": [],
   "source": [
    "div1 = int(split * len(X2))\n",
    "xtrain = X2[:div1]\n",
    "xtest = X2[div1:]\n",
    "\n",
    "div2 = int(split * len(y2))\n",
    "ytrain = y2[:div2]\n",
    "ytest = y2[div2:]\n"
   ]
  },
  {
   "cell_type": "code",
   "execution_count": 9,
   "metadata": {},
   "outputs": [
    {
     "name": "stdout",
     "output_type": "stream",
     "text": [
      "peso uniforme:\n",
      "618.2733333333333\n",
      "0.8000102784822531\n",
      "2.1014847359041404\n"
     ]
    }
   ],
   "source": [
    "neigh = KNeighborsRegressor(n_neighbors=3,weights='uniform')\n",
    "neigh.fit(xtrain,ytrain)\n",
    "\n",
    "rssr = calc_rss(ytest, neigh.predict(xtest))\n",
    "r2r = calc_r2(ytest, neigh.predict(xtest))\n",
    "mser = calc_mse(ytest, neigh.predict(xtest))\n",
    "\n",
    "print(\"peso uniforme:\")\n",
    "print(rssr)\n",
    "print(r2r)\n",
    "print(mser)"
   ]
  },
  {
   "cell_type": "code",
   "execution_count": 10,
   "metadata": {},
   "outputs": [
    {
     "name": "stdout",
     "output_type": "stream",
     "text": [
      "peso baseado na distância:\n",
      "597.7489706675159\n",
      "0.8050461821899121\n",
      "2.0663096342920078\n"
     ]
    }
   ],
   "source": [
    "neigh = KNeighborsRegressor(n_neighbors=2,weights='distance')\n",
    "neigh.fit(xtrain,ytrain)\n",
    "\n",
    "rssr = calc_rss(ytest, neigh.predict(xtest))\n",
    "r2r = calc_r2(ytest, neigh.predict(xtest))\n",
    "mser = calc_mse(ytest, neigh.predict(xtest))\n",
    "\n",
    "print(\"peso baseado na distância:\")\n",
    "print(rssr)\n",
    "print(r2r)\n",
    "print(mser)"
   ]
  },
  {
   "cell_type": "markdown",
   "metadata": {},
   "source": [
    "R: Para ambos os datasets, a parametrização por distância gerou resultados melhores.\n"
   ]
  },
  {
   "cell_type": "markdown",
   "metadata": {},
   "source": [
    "## Árvore de Regressão\n",
    "\n",
    "A árvore de decisão é implementada através da classe <a href=\"https://scikit-learn.org/stable/modules/generated/sklearn.tree.DecisionTreeRegressor.html\">DecisionTreeRegressor</a>.\n"
   ]
  },
  {
   "cell_type": "code",
   "execution_count": 11,
   "metadata": {},
   "outputs": [
    {
     "data": {
      "text/plain": [
       "DecisionTreeRegressor()"
      ]
     },
     "execution_count": 11,
     "metadata": {},
     "output_type": "execute_result"
    }
   ],
   "source": [
    "from sklearn.tree import DecisionTreeRegressor  \n",
    "#Regression tree\n",
    "# create a regressor object \n",
    "tree = DecisionTreeRegressor()  \n",
    "  \n",
    "# fit the regressor with X and Y data \n",
    "tree.fit(X, y) "
   ]
  },
  {
   "cell_type": "code",
   "execution_count": 15,
   "metadata": {},
   "outputs": [
    {
     "data": {
      "text/plain": [
       "Text(0, 0.5, 'Preço')"
      ]
     },
     "execution_count": 15,
     "metadata": {},
     "output_type": "execute_result"
    },
    {
     "data": {
      "image/png": "[encoded data removed]",
      "text/plain": [
       "<Figure size 432x288 with 1 Axes>"
      ]
     },
     "metadata": {
      "needs_background": "light"
     },
     "output_type": "display_data"
    }
   ],
   "source": [
    "plt.scatter(X, y,color='g')\n",
    "y_t = tree.predict(T)\n",
    "plt.plot(T, y_t,color='b')\n",
    "\n",
    "plt.xlabel('Tamanho (pe2)')\n",
    "plt.ylabel('Preço')"
   ]
  },
  {
   "cell_type": "markdown",
   "metadata": {},
   "source": [
    "É possível também gerar a árvore resultante para visualização:"
   ]
  },
  {
   "cell_type": "code",
   "execution_count": 12,
   "metadata": {},
   "outputs": [],
   "source": [
    "from sklearn.tree import export_graphviz  \n",
    " \n",
    "\n",
    "export_graphviz(tree, out_file ='tree.dot', \n",
    "               feature_names =['Tamanho'])"
   ]
  },
  {
   "cell_type": "markdown",
   "metadata": {},
   "source": [
    "Este código irá gerar um arquivo <b>tree.dot</b>.\n",
    "\n",
    "Esse arquivo pode ser visualizado no site <a href='http://www.webgraphviz.com/'>http://www.webgraphviz.com</a>"
   ]
  },
  {
   "cell_type": "markdown",
   "metadata": {},
   "source": [
    "## Exercício 2\n",
    "\n",
    "Qual seria o melhor método para montar um modelo em cada uma das bases com Árvore de Decisão?\n",
    "\n",
    "Utilizar apenas um atributo? multiplos? quais seriam?"
   ]
  },
  {
   "cell_type": "code",
   "execution_count": 13,
   "metadata": {},
   "outputs": [
    {
     "name": "stdout",
     "output_type": "stream",
     "text": [
      "1.0\n",
      "0.0\n"
     ]
    }
   ],
   "source": [
    "X = dados_por.loc[:,['tamanho', 'quartos']]\n",
    "y = dados_por.loc[:,['preco']]\n",
    "\n",
    "div1 = int(split * len(X))\n",
    "xtrain = X[:div1]\n",
    "xtest = X[div1:]\n",
    "\n",
    "div2 = int(split * len(y))\n",
    "ytrain = y[:div2]\n",
    "ytest = y[div2:]\n",
    "\n",
    "tree2 = DecisionTreeRegressor()\n",
    "\n",
    "tree2.fit(xtest, ytest) \n",
    "#rssr = calc_rss(ytest, tree2.predict(xtest))\n",
    "r2r = calc_r2(ytest, tree2.predict(xtest))\n",
    "mser = calc_mse(ytest, tree2.predict(xtest))\n",
    "\n",
    "print(r2r)\n",
    "print(mser)"
   ]
  },
  {
   "cell_type": "code",
   "execution_count": 14,
   "metadata": {},
   "outputs": [
    {
     "name": "stdout",
     "output_type": "stream",
     "text": [
      "1.0\n",
      "0.0\n"
     ]
    }
   ],
   "source": [
    "X = dados_por.loc[:,['tamanho']]\n",
    "y = dados_por.loc[:,['preco']]\n",
    "\n",
    "div1 = int(split * len(X))\n",
    "xtrain = X[:div1]\n",
    "xtest = X[div1:]\n",
    "\n",
    "div2 = int(split * len(y))\n",
    "ytrain = y[:div2]\n",
    "ytest = y[div2:]\n",
    "\n",
    "tree2 = DecisionTreeRegressor()\n",
    "\n",
    "tree2.fit(xtest, ytest) \n",
    "#rssr = calc_rss(ytest, tree2.predict(xtest))\n",
    "r2r = calc_r2(ytest, tree2.predict(xtest))\n",
    "mser = calc_mse(ytest, tree2.predict(xtest))\n",
    "\n",
    "print(r2r)\n",
    "print(mser)"
   ]
  },
  {
   "cell_type": "code",
   "execution_count": 15,
   "metadata": {},
   "outputs": [
    {
     "name": "stdout",
     "output_type": "stream",
     "text": [
      "-5.824825931798749\n",
      "112088.75705330494\n"
     ]
    }
   ],
   "source": [
    "X = dados_por.loc[:,['quartos']]\n",
    "y = dados_por.loc[:,['preco']]\n",
    "\n",
    "div1 = int(split * len(X))\n",
    "xtrain = X[:div1]\n",
    "xtest = X[div1:]\n",
    "\n",
    "div2 = int(split * len(y))\n",
    "ytrain = y[:div2]\n",
    "ytest = y[div2:]\n",
    "\n",
    "tree2 = DecisionTreeRegressor()\n",
    "\n",
    "tree2.fit(xtest, ytest) \n",
    "#rssr = calc_rss(ytest, tree2.predict(xtest))\n",
    "r2r = calc_r2(ytest, tree2.predict(xtest))\n",
    "mser = calc_mse(ytest, tree2.predict(xtest))\n",
    "\n",
    "print(r2r)\n",
    "print(mser)"
   ]
  },
  {
   "cell_type": "code",
   "execution_count": 17,
   "metadata": {},
   "outputs": [
    {
     "name": "stdout",
     "output_type": "stream",
     "text": [
      "1.0\n",
      "0.0\n"
     ]
    }
   ],
   "source": [
    "X2 = dados_adv.loc[:,['TV', 'radio', 'newspaper']]\n",
    "y2 = dados_adv.loc[:,['sales']]\n",
    "\n",
    "div1 = int(split * len(X2))\n",
    "xtrain = X2[:div1]\n",
    "xtest = X2[div1:]\n",
    "\n",
    "div2 = int(split * len(y2))\n",
    "ytrain = y2[:div2]\n",
    "ytest = y2[div2:]\n",
    "\n",
    "tree2 = DecisionTreeRegressor()\n",
    "\n",
    "tree2.fit(xtest, ytest) \n",
    "#rssr = calc_rss(ytest, tree2.predict(xtest))\n",
    "r2r = calc_r2(ytest, tree2.predict(xtest))\n",
    "mser = calc_mse(ytest, tree2.predict(xtest))\n",
    "\n",
    "print(r2r)\n",
    "print(mser)"
   ]
  },
  {
   "cell_type": "code",
   "execution_count": 18,
   "metadata": {},
   "outputs": [
    {
     "name": "stdout",
     "output_type": "stream",
     "text": [
      "0.9829986587571461\n",
      "0.6650187967268293\n"
     ]
    }
   ],
   "source": [
    "X2 = dados_adv.loc[:,['TV']]\n",
    "y2 = dados_adv.loc[:,['sales']]\n",
    "\n",
    "div1 = int(split * len(X2))\n",
    "xtrain = X2[:div1]\n",
    "xtest = X2[div1:]\n",
    "\n",
    "div2 = int(split * len(y2))\n",
    "ytrain = y2[:div2]\n",
    "ytest = y2[div2:]\n",
    "\n",
    "tree2 = DecisionTreeRegressor()\n",
    "\n",
    "tree2.fit(xtest, ytest) \n",
    "#rssr = calc_rss(ytest, tree2.predict(xtest))\n",
    "r2r = calc_r2(ytest, tree2.predict(xtest))\n",
    "mser = calc_mse(ytest, tree2.predict(xtest))\n",
    "\n",
    "print(r2r)\n",
    "print(mser)"
   ]
  },
  {
   "cell_type": "code",
   "execution_count": 19,
   "metadata": {},
   "outputs": [
    {
     "name": "stdout",
     "output_type": "stream",
     "text": [
      "0.9494309385022328\n",
      "1.1284523746728357\n"
     ]
    }
   ],
   "source": [
    "X2 = dados_adv.loc[:,['radio']]\n",
    "y2 = dados_adv.loc[:,['sales']]\n",
    "\n",
    "div1 = int(split * len(X2))\n",
    "xtrain = X2[:div1]\n",
    "xtest = X2[div1:]\n",
    "\n",
    "div2 = int(split * len(y2))\n",
    "ytrain = y2[:div2]\n",
    "ytest = y2[div2:]\n",
    "\n",
    "tree2 = DecisionTreeRegressor()\n",
    "\n",
    "tree2.fit(xtest, ytest) \n",
    "#rssr = calc_rss(ytest, tree2.predict(xtest))\n",
    "r2r = calc_r2(ytest, tree2.predict(xtest))\n",
    "mser = calc_mse(ytest, tree2.predict(xtest))\n",
    "\n",
    "print(r2r)\n",
    "print(mser)"
   ]
  },
  {
   "cell_type": "code",
   "execution_count": 20,
   "metadata": {},
   "outputs": [
    {
     "name": "stdout",
     "output_type": "stream",
     "text": [
      "0.9183558200901748\n",
      "1.4131019577005557\n"
     ]
    }
   ],
   "source": [
    "X2 = dados_adv.loc[:,['newspaper']]\n",
    "y2 = dados_adv.loc[:,['sales']]\n",
    "\n",
    "div1 = int(split * len(X2))\n",
    "xtrain = X2[:div1]\n",
    "xtest = X2[div1:]\n",
    "\n",
    "div2 = int(split * len(y2))\n",
    "ytrain = y2[:div2]\n",
    "ytest = y2[div2:]\n",
    "\n",
    "tree2 = DecisionTreeRegressor()\n",
    "\n",
    "tree2.fit(xtest, ytest) \n",
    "#rssr = calc_rss(ytest, tree2.predict(xtest))\n",
    "r2r = calc_r2(ytest, tree2.predict(xtest))\n",
    "mser = calc_mse(ytest, tree2.predict(xtest))\n",
    "\n",
    "print(r2r)\n",
    "print(mser)"
   ]
  },
  {
   "cell_type": "markdown",
   "metadata": {},
   "source": [
    "**R**: No dataset de preços de casas o tamanho conseguiu apresentar os melhores resultados.\n",
    "\n",
    "**R**: No dataset de anúncios a TV apresentou o melhor resultado entre os 3, porém ao utilizar o dataset inteiro, foi encontrado o melhore resultado."
   ]
  },
  {
   "cell_type": "markdown",
   "metadata": {},
   "source": [
    "## Comparação entre modelos\n",
    "\n",
    "Agora já sabemos como implementar um modelo linear multivariado:\n",
    "\n",
    "```python\n",
    "from sklearn.linear_model import LinearRegression\n",
    "linear = LinearRegression().fit(X,y)\n",
    "```\n",
    "\n",
    "como implementar o regressor KNN:\n",
    "\n",
    "```python\n",
    "from sklearn.neighbors import KNeighborsRegressor\n",
    "neigh = KNeighborsRegressor().fit(X,y)\n",
    "```\n",
    "\n",
    "e como implementar uma árvore de regressão:\n",
    "\n",
    "```python\n",
    "from sklearn.tree import DecisionTreeRegressor  \n",
    "tree = DecisionTreeRegressor().fit(X,y)\n",
    "```\n",
    "\n",
    "Conhecemos todos os algoritmos e seus parâmetros, agora como decidir <b>qual</b> deles usar efetivamente? Olhar o <i>fitting</i> em sua base de dados e tomar isso como verdade absoluta pode ser completamente enganoso.\n",
    "\n",
    "Podemos tentar <i>aliviar</i> esse problema fazendo uma comparação mais inteligente\n",
    "\n",
    "## Exercício 3\n",
    "\n",
    "1) Separe as bases <i>Portland_housePrices</i> e <i>Advertising</i> em conjuntos de <i>treinamento</i> e <i>teste</i> (30% das instâncias para teste e 70% para treinamento).\n",
    "\n",
    "2) Utilize as bases de treinamento para treinar os modelos a serem avaliados, e as bases de teste para avaliar o desempenho regressor dos modelos.\n",
    "\n",
    "3) Qual é o melhor modelo para cada problema? Por que você fez essa recomendação? (mostre métricas, gráficos, ou as evidências que julgar necessárias)."
   ]
  },
  {
   "cell_type": "markdown",
   "metadata": {},
   "source": [
    "**1**: Feito anteriormente.\n",
    "\n",
    "**2**: Feito anteriormente.\n",
    "\n",
    "**3**: A árvore de decisão apresentou melhores resultados levando em consideração as medidas de r2 e mse."
   ]
  }
 ],
 "metadata": {
  "kernelspec": {
   "display_name": "Python 3 (ipykernel)",
   "language": "python",
   "name": "python3"
  },
  "language_info": {
   "codemirror_mode": {
    "name": "ipython",
    "version": 3
   },
   "file_extension": ".py",
   "mimetype": "text/x-python",
   "name": "python",
   "nbconvert_exporter": "python",
   "pygments_lexer": "ipython3",
   "version": "3.8.11"
  }
 },
 "nbformat": 4,
 "nbformat_minor": 2
}
