{
 "cells": [
  {
   "cell_type": "markdown",
   "id": "709af9f5",
   "metadata": {},
   "source": [
    "# Regressão Polinomial\n",
    "\n",
    "O objetivo deste exercício é se aprofundar nos conceitos de regressão e implementar os algoritmos de regressão polinomial.\n",
    "\n",
    "Utilizaremos as mesmas bases de dados do exercício anterior:"
   ]
  },
  {
   "cell_type": "code",
   "execution_count": 1,
   "id": "f422d2e4",
   "metadata": {},
   "outputs": [],
   "source": [
    "import pandas as pd\n",
    "\n",
    "dados_por = pd.read_csv('data/Portland_housePrices.csv', index_col=None)\n",
    "\n",
    "X = dados_por.loc[:,['tamanho']]\n",
    "y = dados_por.loc[:,['preco']]"
   ]
  },
  {
   "cell_type": "markdown",
   "id": "68ae0f67",
   "metadata": {},
   "source": [
    "Vamos examinar o comportamento do preço versus o tamanho do imóvel"
   ]
  },
  {
   "cell_type": "code",
   "execution_count": 2,
   "id": "b5a9f3ae",
   "metadata": {
    "scrolled": true
   },
   "outputs": [
    {
     "data": {
      "text/plain": [
       "Text(0, 0.5, 'Preço (USD$)')"
      ]
     },
     "execution_count": 2,
     "metadata": {},
     "output_type": "execute_result"
    },
    {
     "data": {
      "image/png": "[encoded data removed]",
      "text/plain": [
       "<Figure size 432x288 with 1 Axes>"
      ]
     },
     "metadata": {
      "needs_background": "light"
     },
     "output_type": "display_data"
    }
   ],
   "source": [
    "import matplotlib.pyplot as plt\n",
    "\n",
    "plt.scatter(X,y)\n",
    "plt.xlabel(\"Tamanho (square feets)\")\n",
    "plt.ylabel(\"Preço (USD$)\")"
   ]
  },
  {
   "cell_type": "markdown",
   "id": "3bc76cec",
   "metadata": {},
   "source": [
    "## Medindo a falta de capacidade de generalização de modelos de alto grau"
   ]
  },
  {
   "cell_type": "code",
   "execution_count": 3,
   "id": "54dedfc0",
   "metadata": {},
   "outputs": [],
   "source": [
    "from sklearn.model_selection import train_test_split\n",
    "X_train, X_test, y_train, y_test = train_test_split(X, y, test_size=0.33, random_state=42)"
   ]
  },
  {
   "cell_type": "markdown",
   "id": "2c1baad2",
   "metadata": {},
   "source": [
    "Vamos agora encaixar uma regressão linear simples"
   ]
  },
  {
   "cell_type": "code",
   "execution_count": 4,
   "id": "b95b2537",
   "metadata": {},
   "outputs": [],
   "source": [
    "from sklearn.linear_model import LinearRegression\n",
    "\n",
    "regression = LinearRegression().fit(X_train, y_train)"
   ]
  },
  {
   "cell_type": "markdown",
   "id": "6343d191",
   "metadata": {},
   "source": [
    "Vamos analizar o valor de $R^2$ na partição de treino e de teste"
   ]
  },
  {
   "cell_type": "code",
   "execution_count": 5,
   "id": "6121644d",
   "metadata": {},
   "outputs": [
    {
     "name": "stdout",
     "output_type": "stream",
     "text": [
      "Partição de Treino: 0.6493635022333737\n",
      "Partição de Teste: 0.39301821331700204\n"
     ]
    }
   ],
   "source": [
    "from sklearn.metrics import r2_score\n",
    "print(f\"Partição de Treino: {regression.score(X_train, y_train)}\")\n",
    "y_pred = regression.predict(X_test)\n",
    "print(f\"Partição de Teste: {r2_score(y_pred, y_test)}\")"
   ]
  },
  {
   "cell_type": "code",
   "execution_count": 6,
   "id": "20a81c33",
   "metadata": {},
   "outputs": [
    {
     "name": "stdout",
     "output_type": "stream",
     "text": [
      "8380417681.328084\n"
     ]
    }
   ],
   "source": [
    "from sklearn.metrics import mean_squared_error\n",
    "\n",
    "y_pred = regression.predict(X_test)\n",
    "\n",
    "print(mean_squared_error(y_test, y_pred))"
   ]
  },
  {
   "cell_type": "markdown",
   "id": "7575311c",
   "metadata": {},
   "source": [
    "Agora vamos fazer a expansão polinomial de ordem 2"
   ]
  },
  {
   "cell_type": "code",
   "execution_count": 7,
   "id": "11dce2df",
   "metadata": {},
   "outputs": [],
   "source": [
    "from sklearn.preprocessing import PolynomialFeatures\n",
    "  \n",
    "poly = PolynomialFeatures(degree = 2)\n",
    "X_poly = poly.fit_transform(X)\n",
    "\n",
    "X_train, X_test, y_train, y_test = train_test_split(X_poly, y, test_size=0.33, random_state=42)"
   ]
  },
  {
   "cell_type": "markdown",
   "id": "56e4f17b",
   "metadata": {},
   "source": [
    "E agora retreinamos o modelo utilizando o `X_poly` expandido e avaliamos a qualidade do mesmo."
   ]
  },
  {
   "cell_type": "code",
   "execution_count": 8,
   "id": "3391c8b7",
   "metadata": {},
   "outputs": [
    {
     "name": "stdout",
     "output_type": "stream",
     "text": [
      "Partição de Treino: 0.6564211353485666\n",
      "Partição de Teste: 0.278347829094135\n"
     ]
    }
   ],
   "source": [
    "regression2 = LinearRegression().fit(X_train, y_train)\n",
    "print(f\"Partição de Treino: {regression2.score(X_train, y_train)}\")\n",
    "\n",
    "y_pred = regression2.predict(X_test)\n",
    "print(f\"Partição de Teste: {r2_score(y_pred, y_test)}\")"
   ]
  },
  {
   "cell_type": "markdown",
   "id": "250e35a5",
   "metadata": {},
   "source": [
    "Não notamos nenhuma melhora significativa no $R^2$ na partição de treino, no entanto notamos uma queda no desempenho na partição de teste."
   ]
  },
  {
   "cell_type": "markdown",
   "id": "4e611e8e",
   "metadata": {},
   "source": [
    "## Exercício 1 \n",
    "\n",
    "Avalie a qualidade do modelo nos conjunto de treino e de teste enquanto o grau do polinômio aumenta."
   ]
  },
  {
   "cell_type": "code",
   "execution_count": 11,
   "id": "dc03353b",
   "metadata": {},
   "outputs": [
    {
     "name": "stdout",
     "output_type": "stream",
     "text": [
      "Partição de Treino: 0.6569909895776398\n",
      "Partição de Teste: 0.29828490472428015\n"
     ]
    }
   ],
   "source": [
    "poly = PolynomialFeatures(degree = 3)\n",
    "X_poly = poly.fit_transform(X)\n",
    "\n",
    "X_train, X_test, y_train, y_test = train_test_split(X_poly, y, test_size=0.33, random_state=42)\n",
    "\n",
    "regression2 = LinearRegression().fit(X_train, y_train)\n",
    "print(f\"Partição de Treino: {regression2.score(X_train, y_train)}\")\n",
    "\n",
    "y_pred = regression2.predict(X_test)\n",
    "print(f\"Partição de Teste: {r2_score(y_pred, y_test)}\")"
   ]
  },
  {
   "cell_type": "code",
   "execution_count": 12,
   "id": "7997b39c",
   "metadata": {},
   "outputs": [
    {
     "name": "stdout",
     "output_type": "stream",
     "text": [
      "Partição de Treino: 0.6589590917221796\n",
      "Partição de Teste: 0.25855494666436674\n"
     ]
    }
   ],
   "source": [
    "poly = PolynomialFeatures(degree = 4)\n",
    "X_poly = poly.fit_transform(X)\n",
    "\n",
    "X_train, X_test, y_train, y_test = train_test_split(X_poly, y, test_size=0.33, random_state=42)\n",
    "\n",
    "regression2 = LinearRegression().fit(X_train, y_train)\n",
    "print(f\"Partição de Treino: {regression2.score(X_train, y_train)}\")\n",
    "\n",
    "y_pred = regression2.predict(X_test)\n",
    "print(f\"Partição de Teste: {r2_score(y_pred, y_test)}\")"
   ]
  },
  {
   "cell_type": "code",
   "execution_count": 13,
   "id": "c2a331bb",
   "metadata": {},
   "outputs": [
    {
     "name": "stdout",
     "output_type": "stream",
     "text": [
      "Partição de Treino: 0.6626529223268033\n",
      "Partição de Teste: 0.2784732500146426\n"
     ]
    }
   ],
   "source": [
    "poly = PolynomialFeatures(degree = 5)\n",
    "X_poly = poly.fit_transform(X)\n",
    "\n",
    "X_train, X_test, y_train, y_test = train_test_split(X_poly, y, test_size=0.33, random_state=42)\n",
    "\n",
    "regression2 = LinearRegression().fit(X_train, y_train)\n",
    "print(f\"Partição de Treino: {regression2.score(X_train, y_train)}\")\n",
    "\n",
    "y_pred = regression2.predict(X_test)\n",
    "print(f\"Partição de Teste: {r2_score(y_pred, y_test)}\")"
   ]
  },
  {
   "cell_type": "code",
   "execution_count": 12,
   "id": "b308b6df",
   "metadata": {},
   "outputs": [
    {
     "name": "stdout",
     "output_type": "stream",
     "text": [
      "Partição de Treino: 0.6678899322620004\n",
      "Partição de Teste: 0.23261215792387413\n"
     ]
    }
   ],
   "source": [
    "poly = PolynomialFeatures(degree = 6)\n",
    "X_poly = poly.fit_transform(X)\n",
    "\n",
    "X_train, X_test, y_train, y_test = train_test_split(X_poly, y, test_size=0.33, random_state=42)\n",
    "\n",
    "regression2 = LinearRegression().fit(X_train, y_train)\n",
    "print(f\"Partição de Treino: {regression2.score(X_train, y_train)}\")\n",
    "\n",
    "y_pred = regression2.predict(X_test)\n",
    "print(f\"Partição de Teste: {r2_score(y_pred, y_test)}\")"
   ]
  },
  {
   "cell_type": "code",
   "execution_count": 13,
   "id": "dd1d3874",
   "metadata": {},
   "outputs": [
    {
     "name": "stdout",
     "output_type": "stream",
     "text": [
      "Partição de Treino: 0.6736341672462689\n",
      "Partição de Teste: 0.13627755911842832\n"
     ]
    }
   ],
   "source": [
    "poly = PolynomialFeatures(degree = 7)\n",
    "X_poly = poly.fit_transform(X)\n",
    "\n",
    "X_train, X_test, y_train, y_test = train_test_split(X_poly, y, test_size=0.33, random_state=42)\n",
    "\n",
    "regression2 = LinearRegression().fit(X_train, y_train)\n",
    "print(f\"Partição de Treino: {regression2.score(X_train, y_train)}\")\n",
    "\n",
    "y_pred = regression2.predict(X_test)\n",
    "print(f\"Partição de Teste: {r2_score(y_pred, y_test)}\")"
   ]
  },
  {
   "cell_type": "markdown",
   "id": "2ccd287c",
   "metadata": {},
   "source": [
    "**R**: Com o grau polinomial = 3 foi obtido o melhor resultado."
   ]
  },
  {
   "cell_type": "markdown",
   "id": "ddc9eeff",
   "metadata": {},
   "source": [
    "## Exercício 2\n",
    "\n",
    "Utilizando o dataset de vendas de abóboras na cidade de Nova Iorque, compare uma regressão linear com regressões polinomiais."
   ]
  },
  {
   "cell_type": "code",
   "execution_count": 18,
   "id": "f0ed71d3",
   "metadata": {},
   "outputs": [
    {
     "name": "stdout",
     "output_type": "stream",
     "text": [
      "Partição de Treino: -602293.5986394043\n",
      "Partição de Teste: -211026.8033626207\n"
     ]
    }
   ],
   "source": [
    "# nyc_pumpkins = pd.read_csv(\"data/nyc_pumpkins.csv\")\n",
    "dados_pum = pd.read_csv('data/nyc_pumpkins.csv', index_col=None)\n",
    "X2 = dados_pum.loc[:,['size']]\n",
    "y2 = dados_pum.loc[:,['price']]\n",
    "\n",
    "X_train, X_test, y_train, y_test = train_test_split(X2, y2, test_size=0.33, random_state=42)\n",
    "\n",
    "print(f\"Partição de Treino: {regression.score(X_train, y_train)}\")\n",
    "y_pred = regression.predict(X_test)\n",
    "print(f\"Partição de Teste: {r2_score(y_pred, y_test)}\")"
   ]
  },
  {
   "cell_type": "code",
   "execution_count": 19,
   "id": "5d328a11",
   "metadata": {},
   "outputs": [
    {
     "name": "stdout",
     "output_type": "stream",
     "text": [
      "Partição de Treino: 0.4288749411744748\n",
      "Partição de Teste: 0.0673749460255969\n"
     ]
    }
   ],
   "source": [
    "poly = PolynomialFeatures(degree = 3)\n",
    "X_poly = poly.fit_transform(X2)\n",
    "\n",
    "X_train, X_test, y_train, y_test = train_test_split(X_poly, y2, test_size=0.33, random_state=42)\n",
    "\n",
    "regression2 = LinearRegression().fit(X_train, y_train)\n",
    "print(f\"Partição de Treino: {regression2.score(X_train, y_train)}\")\n",
    "\n",
    "y_pred = regression2.predict(X_test)\n",
    "print(f\"Partição de Teste: {r2_score(y_pred, y_test)}\")"
   ]
  }
 ],
 "metadata": {
  "kernelspec": {
   "display_name": "Python 3",
   "language": "python",
   "name": "python3"
  },
  "language_info": {
   "codemirror_mode": {
    "name": "ipython",
    "version": 3
   },
   "file_extension": ".py",
   "mimetype": "text/x-python",
   "name": "python",
   "nbconvert_exporter": "python",
   "pygments_lexer": "ipython3",
   "version": "3.9.4"
  }
 },
 "nbformat": 4,
 "nbformat_minor": 5
}
