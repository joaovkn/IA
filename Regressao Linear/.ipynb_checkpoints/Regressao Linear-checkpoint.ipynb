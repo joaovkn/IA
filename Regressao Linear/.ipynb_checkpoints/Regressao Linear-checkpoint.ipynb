{
 "cells": [
  {
   "cell_type": "markdown",
   "id": "2f378a10",
   "metadata": {},
   "source": [
    "## Regressão\n",
    "O objetivo deste exercício é introduzir e praticar conceitos de Regressão. Para isso utilizaremos 2 bases: Advertising.csv e Portland_housePrices.csv"
   ]
  },
  {
   "cell_type": "code",
   "execution_count": 1,
   "id": "6fb9d916",
   "metadata": {},
   "outputs": [],
   "source": [
    "from sklearn.metrics import r2_score\n",
    "from sklearn.metrics import mean_squared_error\n",
    "from matplotlib import pyplot as plt\n",
    "import time\n",
    "\n",
    "split = 0.3\n",
    "\n",
    "def calc_rss(y,predicted):\n",
    "    return float(((predicted - y) ** 2).sum())\n",
    "    \n",
    "def calc_r2(y,predicted):\n",
    "    return r2_score(predicted,y)\n",
    "\n",
    "def calc_mse(y, predicted):\n",
    "    return mean_squared_error(predicted, y, squared=False)"
   ]
  },
  {
   "cell_type": "code",
   "execution_count": 2,
   "id": "27285e61",
   "metadata": {},
   "outputs": [
    {
     "data": {
      "text/html": [
       "<div>\n",
       "<style scoped>\n",
       "    .dataframe tbody tr th:only-of-type {\n",
       "        vertical-align: middle;\n",
       "    }\n",
       "\n",
       "    .dataframe tbody tr th {\n",
       "        vertical-align: top;\n",
       "    }\n",
       "\n",
       "    .dataframe thead th {\n",
       "        text-align: right;\n",
       "    }\n",
       "</style>\n",
       "<table border=\"1\" class=\"dataframe\">\n",
       "  <thead>\n",
       "    <tr style=\"text-align: right;\">\n",
       "      <th></th>\n",
       "      <th>TV</th>\n",
       "      <th>radio</th>\n",
       "      <th>newspaper</th>\n",
       "      <th>sales</th>\n",
       "    </tr>\n",
       "  </thead>\n",
       "  <tbody>\n",
       "    <tr>\n",
       "      <th>0</th>\n",
       "      <td>0.503889</td>\n",
       "      <td>0.717742</td>\n",
       "      <td>0.050132</td>\n",
       "      <td>0.618110</td>\n",
       "    </tr>\n",
       "    <tr>\n",
       "      <th>1</th>\n",
       "      <td>0.440987</td>\n",
       "      <td>0.862903</td>\n",
       "      <td>0.251539</td>\n",
       "      <td>0.645669</td>\n",
       "    </tr>\n",
       "    <tr>\n",
       "      <th>2</th>\n",
       "      <td>0.463984</td>\n",
       "      <td>0.935484</td>\n",
       "      <td>0.516271</td>\n",
       "      <td>0.692913</td>\n",
       "    </tr>\n",
       "    <tr>\n",
       "      <th>3</th>\n",
       "      <td>0.881299</td>\n",
       "      <td>0.860887</td>\n",
       "      <td>0.478452</td>\n",
       "      <td>0.889764</td>\n",
       "    </tr>\n",
       "    <tr>\n",
       "      <th>4</th>\n",
       "      <td>0.256003</td>\n",
       "      <td>0.538306</td>\n",
       "      <td>0.193492</td>\n",
       "      <td>0.401575</td>\n",
       "    </tr>\n",
       "  </tbody>\n",
       "</table>\n",
       "</div>"
      ],
      "text/plain": [
       "         TV     radio  newspaper     sales\n",
       "0  0.503889  0.717742   0.050132  0.618110\n",
       "1  0.440987  0.862903   0.251539  0.645669\n",
       "2  0.463984  0.935484   0.516271  0.692913\n",
       "3  0.881299  0.860887   0.478452  0.889764\n",
       "4  0.256003  0.538306   0.193492  0.401575"
      ]
     },
     "execution_count": 2,
     "metadata": {},
     "output_type": "execute_result"
    }
   ],
   "source": [
    "import pandas as pd\n",
    "from sklearn import preprocessing\n",
    "\n",
    "dados_adv0 = pd.read_csv('data/Advertising.csv', index_col=0)\n",
    "dados_adv0 = dados_adv0.sample(frac=1)\n",
    "\n",
    "scaler = preprocessing.MinMaxScaler()\n",
    "names = dados_adv0.columns\n",
    "d = scaler.fit_transform(dados_adv0)\n",
    "dados_adv = pd.DataFrame(d, columns=names)\n",
    "#dados_adv = preprocessing.normalize(dados_adv0)\n",
    "dados_adv.head()"
   ]
  },
  {
   "cell_type": "markdown",
   "id": "6bc4232e",
   "metadata": {},
   "source": [
    "Advertising é um conjunto de dados relacionando o montante de vendas (sales) com o montante investido em marketing em diferentes médias (TV,radio e newspaper).\n",
    "\n",
    "Por sua vez, Portland_housePrices relaciona o preço de casas com seu tamanho e número de quartos."
   ]
  },
  {
   "cell_type": "code",
   "execution_count": 3,
   "id": "e527e14a",
   "metadata": {},
   "outputs": [
    {
     "data": {
      "text/html": [
       "<div>\n",
       "<style scoped>\n",
       "    .dataframe tbody tr th:only-of-type {\n",
       "        vertical-align: middle;\n",
       "    }\n",
       "\n",
       "    .dataframe tbody tr th {\n",
       "        vertical-align: top;\n",
       "    }\n",
       "\n",
       "    .dataframe thead th {\n",
       "        text-align: right;\n",
       "    }\n",
       "</style>\n",
       "<table border=\"1\" class=\"dataframe\">\n",
       "  <thead>\n",
       "    <tr style=\"text-align: right;\">\n",
       "      <th></th>\n",
       "      <th>tamanho</th>\n",
       "      <th>quartos</th>\n",
       "      <th>preco</th>\n",
       "    </tr>\n",
       "  </thead>\n",
       "  <tbody>\n",
       "    <tr>\n",
       "      <th>0</th>\n",
       "      <td>0.472973</td>\n",
       "      <td>0.75</td>\n",
       "      <td>0.271887</td>\n",
       "    </tr>\n",
       "    <tr>\n",
       "      <th>1</th>\n",
       "      <td>0.114727</td>\n",
       "      <td>0.50</td>\n",
       "      <td>0.169811</td>\n",
       "    </tr>\n",
       "    <tr>\n",
       "      <th>2</th>\n",
       "      <td>0.484556</td>\n",
       "      <td>0.75</td>\n",
       "      <td>0.622826</td>\n",
       "    </tr>\n",
       "    <tr>\n",
       "      <th>3</th>\n",
       "      <td>0.327634</td>\n",
       "      <td>0.75</td>\n",
       "      <td>0.273585</td>\n",
       "    </tr>\n",
       "    <tr>\n",
       "      <th>4</th>\n",
       "      <td>0.167126</td>\n",
       "      <td>0.50</td>\n",
       "      <td>0.555849</td>\n",
       "    </tr>\n",
       "  </tbody>\n",
       "</table>\n",
       "</div>"
      ],
      "text/plain": [
       "    tamanho  quartos     preco\n",
       "0  0.472973     0.75  0.271887\n",
       "1  0.114727     0.50  0.169811\n",
       "2  0.484556     0.75  0.622826\n",
       "3  0.327634     0.75  0.273585\n",
       "4  0.167126     0.50  0.555849"
      ]
     },
     "execution_count": 3,
     "metadata": {},
     "output_type": "execute_result"
    }
   ],
   "source": [
    "dados_por0 = pd.read_csv('data/Portland_housePrices.csv', index_col=None)\n",
    "dados_por0 = dados_por0.sample(frac=1)\n",
    "scaler = preprocessing.MinMaxScaler()\n",
    "names2 = dados_por0.columns\n",
    "d2 = scaler.fit_transform(dados_por0)\n",
    "dados_por = pd.DataFrame(d2, columns=names2)\n",
    "#dados_por = preprocessing.normalize(dados_por0)\n",
    "dados_por.head()"
   ]
  },
  {
   "cell_type": "markdown",
   "id": "47ffc37d",
   "metadata": {},
   "source": [
    "## Como treinar e usar modelos?\n",
    "Para virtualmente qualquer tipo de algoritmo de Regressão, existirá uma função fit para treinar o modelo.\n",
    "\n",
    "Por exemplo, para a regressão linear:\n",
    "\n",
    "reg = LinearRegression().fit(X,y)\n",
    "Onde X se refere aos atributos de treinamento e y à variável resposta."
   ]
  },
  {
   "cell_type": "code",
   "execution_count": 4,
   "id": "15ac788a",
   "metadata": {},
   "outputs": [
    {
     "data": {
      "text/plain": [
       "LinearRegression()"
      ]
     },
     "execution_count": 4,
     "metadata": {},
     "output_type": "execute_result"
    }
   ],
   "source": [
    "from sklearn.linear_model import LinearRegression\n",
    "#Treina modelo utilizando dados de tamanho para prever preco\n",
    "X = dados_por.loc[:,['tamanho']]\n",
    "#X = dados_por.loc[:,['quartos']]\n",
    "y = dados_por.loc[:,['preco']]\n",
    "\n",
    "#X = preprocessing.normalize(xp)\n",
    "\n",
    "\n",
    "div1 = int(split * len(X))\n",
    "xtrain = X[:div1]\n",
    "xtest = X[div1:]\n",
    "\n",
    "div2 = int(split * len(y))\n",
    "ytrain = y[:div2]\n",
    "ytest = y[div2:]\n",
    "\n",
    "\n",
    "reg = LinearRegression().fit(xtrain,ytrain)\n",
    "reg"
   ]
  },
  {
   "cell_type": "code",
   "execution_count": 5,
   "id": "f4adeb04",
   "metadata": {},
   "outputs": [
    {
     "data": {
      "text/plain": [
       "array([[0.23251074],\n",
       "       [0.26882735],\n",
       "       [0.23308116],\n",
       "       [0.36636881]])"
      ]
     },
     "execution_count": 5,
     "metadata": {},
     "output_type": "execute_result"
    }
   ],
   "source": [
    "# Após treinado, o modelo pode ser utilizado para fazer predições (prever y para novos exemplos), através da função predict\n",
    "\n",
    "y_hat = reg.predict(xtest[0:4])\n",
    "y_hat"
   ]
  },
  {
   "cell_type": "code",
   "execution_count": 6,
   "id": "538bab90",
   "metadata": {},
   "outputs": [
    {
     "data": {
      "text/plain": [
       "Text(0, 0.5, 'Preço')"
      ]
     },
     "execution_count": 6,
     "metadata": {},
     "output_type": "execute_result"
    },
    {
     "data": {
      "image/png": "[encoded data removed]",
      "text/plain": [
       "<Figure size 432x288 with 1 Axes>"
      ]
     },
     "metadata": {
      "needs_background": "light"
     },
     "output_type": "display_data"
    }
   ],
   "source": [
    "plt.scatter(xtest, ytest,color='g')\n",
    "plt.plot(xtest, reg.predict(xtest),color='k')\n",
    "plt.xlabel('Tamanho (pe2)')\n",
    "plt.ylabel('Preço')"
   ]
  },
  {
   "cell_type": "code",
   "execution_count": 7,
   "id": "ad9bc39c",
   "metadata": {},
   "outputs": [
    {
     "name": "stdout",
     "output_type": "stream",
     "text": [
      "0.6896637806466589\n",
      "0.008113812004827081\n",
      "0.1445645269208119\n"
     ]
    }
   ],
   "source": [
    "rssr = calc_rss(ytest, reg.predict(xtest))\n",
    "r2r = calc_r2(ytest, reg.predict(xtest))\n",
    "mser = calc_mse(ytest, reg.predict(xtest))\n",
    "\n",
    "print(rssr)\n",
    "print(r2r)\n",
    "print(mser)"
   ]
  },
  {
   "cell_type": "markdown",
   "id": "2aba6dae",
   "metadata": {},
   "source": [
    "## Regressão Linear Multivariada\n",
    "A classe LinearRegression já está implementada de modo a funcionar com múltiplos atributos preditores.\n",
    "\n",
    "Também é possível utilizar o método de Descida de Gradiente através da classe SGDRegressor: https://scikit-learn.org/stable/modules/generated/sklearn.linear_model.SGDRegressor.html"
   ]
  },
  {
   "cell_type": "code",
   "execution_count": 8,
   "id": "5bfa06c8",
   "metadata": {},
   "outputs": [
    {
     "data": {
      "text/plain": [
       "SGDRegressor(alpha=0, max_iter=5000)"
      ]
     },
     "execution_count": 8,
     "metadata": {},
     "output_type": "execute_result"
    }
   ],
   "source": [
    "from sklearn.linear_model import SGDRegressor\n",
    "reg_grad = SGDRegressor(max_iter=5000,alpha=0) #alpha = 0 significa que o modelo nao usa regularização (a ser explicado nas próximas aulas)\n",
    "reg_grad.fit(X,y.values.ravel())"
   ]
  },
  {
   "cell_type": "code",
   "execution_count": 9,
   "id": "086e3b6d",
   "metadata": {},
   "outputs": [
    {
     "data": {
      "text/plain": [
       "Text(0, 0.5, 'Preço')"
      ]
     },
     "execution_count": 9,
     "metadata": {},
     "output_type": "execute_result"
    },
    {
     "data": {
      "image/png": "[encoded data removed]",
      "text/plain": [
       "<Figure size 432x288 with 1 Axes>"
      ]
     },
     "metadata": {
      "needs_background": "light"
     },
     "output_type": "display_data"
    }
   ],
   "source": [
    "plt.scatter(X, y,color='g')\n",
    "plt.plot(X, reg_grad.predict(X),color='k')\n",
    "plt.xlabel('Tamanho (pe2)')\n",
    "plt.ylabel('Preço')"
   ]
  },
  {
   "cell_type": "code",
   "execution_count": 10,
   "id": "6327dfb6",
   "metadata": {},
   "outputs": [
    {
     "name": "stdout",
     "output_type": "stream",
     "text": [
      "0.9549111329577525\n",
      "-43.974773805814785\n",
      "0.21072669623624338\n"
     ]
    }
   ],
   "source": [
    "rss = calc_rss(y,reg.predict(X))\n",
    "r2 = calc_r2(y,reg_grad.predict(X))\n",
    "mse = calc_mse(y,reg_grad.predict(X))\n",
    "print(rss)\n",
    "print(r2)\n",
    "print(mse)"
   ]
  },
  {
   "cell_type": "markdown",
   "id": "21c9d56e",
   "metadata": {},
   "source": [
    "#### Entretanto... o algoritmo não aprende quando os dados são usados diretamente.\n",
    "\n",
    "### Por quê?\n",
    "\n",
    "A escala dos dados atrapalha o algoritmo. Tente treinar o regressor linear com descida do gradiente depois de normalizar os dados de entrada."
   ]
  },
  {
   "cell_type": "markdown",
   "id": "611fdf6b",
   "metadata": {},
   "source": [
    "## Exercício 1\n",
    "Para cada um dos conjuntos de treinamento, utilize a função fit múltiplas vezes considerando apenas um atributo preditor.\n",
    "\n",
    "1) O modelo aprendido muda a cada vez que a função fit é utilizada?\n",
    "\n",
    "2) Os modelos finais aprendidos são os mesmos da outra implementação de regressão linear?"
   ]
  },
  {
   "cell_type": "code",
   "execution_count": 11,
   "id": "8915fcb2",
   "metadata": {},
   "outputs": [],
   "source": [
    "div1 = int(split * len(X))\n",
    "xtrain = X[:div1]\n",
    "xtest = X[div1:]\n",
    "\n",
    "div2 = int(split * len(y))\n",
    "ytrain = y[:div2]\n",
    "ytest = y[div2:]\n"
   ]
  },
  {
   "cell_type": "code",
   "execution_count": 12,
   "id": "2e052722",
   "metadata": {},
   "outputs": [
    {
     "data": {
      "text/plain": [
       "array([[0.23251074],\n",
       "       [0.26882735],\n",
       "       [0.23308116],\n",
       "       [0.36636881]])"
      ]
     },
     "execution_count": 12,
     "metadata": {},
     "output_type": "execute_result"
    }
   ],
   "source": [
    "# Múltiplos fit na regressão linear\n",
    "reg2 = LinearRegression().fit(xtrain,ytrain)\n",
    "reg2 = LinearRegression().fit(xtrain,ytrain)\n",
    "reg2 = LinearRegression().fit(xtrain,ytrain)\n",
    "reg2 = LinearRegression().fit(xtrain,ytrain)\n",
    "reg2 = LinearRegression().fit(xtrain,ytrain)\n",
    "y_hat = reg2.predict(xtest[0:4])\n",
    "y_hat"
   ]
  },
  {
   "cell_type": "code",
   "execution_count": 13,
   "id": "9cd3750d",
   "metadata": {},
   "outputs": [
    {
     "name": "stdout",
     "output_type": "stream",
     "text": [
      "0.6896637806466589\n",
      "0.008113812004827081\n",
      "0.1445645269208119\n"
     ]
    }
   ],
   "source": [
    "rss2 = calc_rss(ytest,reg2.predict(xtest))\n",
    "r22 = calc_r2(ytest,reg2.predict(xtest))\n",
    "mse2 = calc_mse(ytest,reg2.predict(xtest))\n",
    "print(rss2)\n",
    "print(r22)\n",
    "print(mse2)"
   ]
  },
  {
   "cell_type": "code",
   "execution_count": 14,
   "id": "b17d6217",
   "metadata": {},
   "outputs": [
    {
     "name": "stdout",
     "output_type": "stream",
     "text": [
      "0.6896637806466589\n",
      "-77.02398122747543\n",
      "0.2150731835974523\n"
     ]
    }
   ],
   "source": [
    "# Múltiplos fit no gradiente descendente\n",
    "reg_grad.fit(xtrain,ytrain.values.ravel())\n",
    "reg_grad.fit(xtrain,ytrain.values.ravel())\n",
    "reg_grad.fit(xtrain,ytrain.values.ravel())\n",
    "reg_grad.fit(xtrain,ytrain.values.ravel())\n",
    "reg_grad.fit(xtrain,ytrain.values.ravel())\n",
    "\n",
    "rss2 = calc_rss(ytest,reg.predict(xtest))\n",
    "r22 = calc_r2(ytest,reg_grad.predict(xtest))\n",
    "mse2 = calc_mse(ytest,reg_grad.predict(xtest))\n",
    "\n",
    "print(rss2)\n",
    "print(r22)\n",
    "print(mse2)"
   ]
  },
  {
   "cell_type": "code",
   "execution_count": 15,
   "id": "969a587e",
   "metadata": {},
   "outputs": [
    {
     "data": {
      "text/plain": [
       "Text(0, 0.5, 'Preço')"
      ]
     },
     "execution_count": 15,
     "metadata": {},
     "output_type": "execute_result"
    },
    {
     "data": {
      "image/png": "[encoded data removed]",
      "text/plain": [
       "<Figure size 432x288 with 1 Axes>"
      ]
     },
     "metadata": {
      "needs_background": "light"
     },
     "output_type": "display_data"
    }
   ],
   "source": [
    "plt.scatter(X, y,color='g')\n",
    "plt.plot(X, reg_grad.predict(X),color='k')\n",
    "plt.xlabel('Tamanho (pe2)')\n",
    "plt.ylabel('Preço')"
   ]
  },
  {
   "cell_type": "code",
   "execution_count": 16,
   "id": "754815f4",
   "metadata": {},
   "outputs": [
    {
     "data": {
      "text/plain": [
       "Text(0, 0.5, 'Preço')"
      ]
     },
     "execution_count": 16,
     "metadata": {},
     "output_type": "execute_result"
    },
    {
     "data": {
      "image/png": "[encoded data removed]",
      "text/plain": [
       "<Figure size 432x288 with 1 Axes>"
      ]
     },
     "metadata": {
      "needs_background": "light"
     },
     "output_type": "display_data"
    }
   ],
   "source": [
    "plt.scatter(xtest, ytest,color='g')\n",
    "plt.plot(xtest, reg.predict(xtest),color='k')\n",
    "plt.xlabel('Tamanho (pe2)')\n",
    "plt.ylabel('Preço')"
   ]
  },
  {
   "cell_type": "markdown",
   "id": "e0788b17",
   "metadata": {},
   "source": [
    "**R1:** O modelo muda.\n",
    "\n",
    "**R2:** Não, o treino altera o modelo."
   ]
  },
  {
   "cell_type": "markdown",
   "id": "ebcc58e2",
   "metadata": {},
   "source": [
    "## Exercício 2\n",
    "Aprenda modelos utilizando todos os atributos de entrada.\n",
    "\n",
    "1) Baseado no RSS e no R^2, é possível obter um modelo melhor utilizando todos os dados?\n",
    "\n",
    "2) Existem atributos que poderiam ser desconsiderados sem que fosse afetada a precisão?\n",
    "\n",
    "3) Qual implementação treina mais rápido? A com método dos mínimos quadrados ou a com descida de gradiente?"
   ]
  },
  {
   "cell_type": "code",
   "execution_count": 17,
   "id": "56cdb240",
   "metadata": {},
   "outputs": [],
   "source": [
    "xt = dados_por.loc[:,['tamanho', 'quartos']]\n",
    "yt = dados_por.loc[:,['preco']]\n",
    "\n",
    "div1 = int(split * len(xt))\n",
    "xtraint = xt[:div1]\n",
    "xtestt = xt[div1:]\n",
    "\n",
    "div2 = int(split * len(yt))\n",
    "ytraint = yt[:div2]\n",
    "ytestt = yt[div2:]"
   ]
  },
  {
   "cell_type": "code",
   "execution_count": 18,
   "id": "fcb333f2",
   "metadata": {},
   "outputs": [
    {
     "name": "stdout",
     "output_type": "stream",
     "text": [
      "Tempo to execucao: 0.01806163787841797\n"
     ]
    }
   ],
   "source": [
    "start = time.time()\n",
    "regt = LinearRegression().fit(xtraint,ytraint)\n",
    "end = time.time()\n",
    "print(\"Tempo to execucao:\", end-start)\n",
    "y_hatt = regt.predict(xtraint[0:4])"
   ]
  },
  {
   "cell_type": "code",
   "execution_count": 19,
   "id": "a397d5a5",
   "metadata": {},
   "outputs": [
    {
     "name": "stdout",
     "output_type": "stream",
     "text": [
      "Tamanho:\n",
      "0.6896637806466589\n",
      "0.008113812004827081\n",
      "0.1445645269208119\n",
      "\n",
      "\n",
      "Tamanho, Quartos:\n",
      "0.7342923218929432\n",
      "-0.12122256474474291\n",
      "0.14916863772792302\n"
     ]
    }
   ],
   "source": [
    "rsst = calc_rss(ytestt,regt.predict(xtestt))\n",
    "r2t = calc_r2(ytestt,regt.predict(xtestt))\n",
    "mset = calc_mse(ytestt,regt.predict(xtestt))\n",
    "\n",
    "# Tamanho\n",
    "print(\"Tamanho:\")\n",
    "print(rssr)\n",
    "print(r2r)\n",
    "print(mser)\n",
    "print(\"\\n\")\n",
    "\n",
    "# Tamanho, Quartos\n",
    "print(\"Tamanho, Quartos:\")\n",
    "print(rsst)\n",
    "print(r2t)\n",
    "print(mset)"
   ]
  },
  {
   "cell_type": "code",
   "execution_count": 20,
   "id": "6cddf10b",
   "metadata": {},
   "outputs": [
    {
     "name": "stdout",
     "output_type": "stream",
     "text": [
      "Tempo to execucao: 0.007517576217651367\n"
     ]
    }
   ],
   "source": [
    "reg_grad2 = SGDRegressor() #alpha = 0 significa que o modelo nao usa regularização (a ser explicado nas próximas aulas)\n",
    "\n",
    "start2 = time.time()\n",
    "reg_grad2.fit(xtrain,ytrain.values.ravel())\n",
    "end2 = time.time()\n",
    "print(\"Tempo to execucao:\", end2-start2)"
   ]
  },
  {
   "cell_type": "markdown",
   "id": "02a9226a",
   "metadata": {},
   "source": [
    "**R1:** O número de quartos afeta muito pouco o resultado de RSS e R².\n",
    "\n",
    "**R2:** O número de quartos pode ser desconsiderado.\n",
    "\n",
    "**R3:** O tempo de treinamento com o gradiente descende foi menor."
   ]
  },
  {
   "cell_type": "markdown",
   "id": "7e348494",
   "metadata": {},
   "source": [
    "## Exercício 3\n",
    "Realizar a análise da qualidade dos preditores utilizados no modelo construído.\n",
    "\n",
    "1) Construir o plot de resíduos. Será que os resíduos estão aleatoriamente distribuídos ao redor de 0?\n",
    "\n",
    "2) Calcular os valores p para os preditores utilizados no modelo de regressão. Utilize esse link como referência:\n",
    "https://stackoverflow.com/questions/27928275/find-p-value-significance-in-scikit-learn-linearregression/42677750#42677750\n",
    "Utilizar essa técnica para selecionar variáveis preditivas. Comparar o desempenho do modelo construído a partir de variáveis preditivas com melhores valores p com um modelo que contêm todas as variáveis.\n"
   ]
  },
  {
   "cell_type": "code",
   "execution_count": null,
   "id": "2cbc361a",
   "metadata": {},
   "outputs": [],
   "source": [
    "import statsmodels.api as sm\n",
    "from scipy import stats\n",
    "\n",
    "X2 = sm.add_constant(X)\n",
    "est = sm.OLS(y, X2)\n",
    "est2 = est.fit()\n",
    "print(est2.summary())"
   ]
  },
  {
   "cell_type": "markdown",
   "id": "218e8d83",
   "metadata": {},
   "source": [
    "## Exercício 4\n",
    "Realizar o teste para descobrir multicolinearidade entre variáveis preditivas;\n",
    "\n",
    "1) Utilizando esse link: https://www.geeksforgeeks.org/detecting-multicollinearity-with-vif-python/ fazer o cáclulo do fator de inflação da variância (Variance Inflation Factor - VIF). Existe alguma evidência de multicolinearidade entre as variáveis preditivas?"
   ]
  },
  {
   "cell_type": "code",
   "execution_count": null,
   "id": "2180b0ee",
   "metadata": {},
   "outputs": [],
   "source": []
  }
 ],
 "metadata": {
  "kernelspec": {
   "display_name": "Python 3",
   "language": "python",
   "name": "python3"
  },
  "language_info": {
   "codemirror_mode": {
    "name": "ipython",
    "version": 3
   },
   "file_extension": ".py",
   "mimetype": "text/x-python",
   "name": "python",
   "nbconvert_exporter": "python",
   "pygments_lexer": "ipython3",
   "version": "3.9.4"
  }
 },
 "nbformat": 4,
 "nbformat_minor": 5
}
