{
 "cells": [
  {
   "cell_type": "markdown",
   "id": "2f378a10",
   "metadata": {},
   "source": [
    "## Regressão\n",
    "O objetivo deste exercício é introduzir e praticar conceitos de Regressão. Para isso utilizaremos 2 bases: Advertising.csv e Portland_housePrices.csv"
   ]
  },
  {
   "cell_type": "code",
   "execution_count": 1,
   "id": "6fb9d916",
   "metadata": {},
   "outputs": [],
   "source": [
    "from sklearn.metrics import r2_score\n",
    "from sklearn.metrics import mean_squared_error\n",
    "from matplotlib import pyplot as plt\n",
    "import time\n",
    "\n",
    "split = 0.3\n",
    "\n",
    "def calc_rss(y,predicted):\n",
    "    return float(((predicted - y) ** 2).sum())\n",
    "    \n",
    "def calc_r2(y,predicted):\n",
    "    return r2_score(predicted,y)\n",
    "\n",
    "def calc_mse(y, predicted):\n",
    "    return mean_squared_error(predicted, y, squared=False)"
   ]
  },
  {
   "cell_type": "code",
   "execution_count": 2,
   "id": "27285e61",
   "metadata": {},
   "outputs": [
    {
     "ename": "ModuleNotFoundError",
     "evalue": "No module named 'pandas'",
     "output_type": "error",
     "traceback": [
      "\u001b[0;31m---------------------------------------------------------------------------\u001b[0m",
      "\u001b[0;31mModuleNotFoundError\u001b[0m                       Traceback (most recent call last)",
      "\u001b[0;32m/tmp/ipykernel_18977/381761682.py\u001b[0m in \u001b[0;36m<module>\u001b[0;34m\u001b[0m\n\u001b[0;32m----> 1\u001b[0;31m \u001b[0;32mimport\u001b[0m \u001b[0mpandas\u001b[0m \u001b[0;32mas\u001b[0m \u001b[0mpd\u001b[0m\u001b[0;34m\u001b[0m\u001b[0;34m\u001b[0m\u001b[0m\n\u001b[0m\u001b[1;32m      2\u001b[0m \u001b[0;32mfrom\u001b[0m \u001b[0msklearn\u001b[0m \u001b[0;32mimport\u001b[0m \u001b[0mpreprocessing\u001b[0m\u001b[0;34m\u001b[0m\u001b[0;34m\u001b[0m\u001b[0m\n\u001b[1;32m      3\u001b[0m \u001b[0;34m\u001b[0m\u001b[0m\n\u001b[1;32m      4\u001b[0m \u001b[0mdados_adv0\u001b[0m \u001b[0;34m=\u001b[0m \u001b[0mpd\u001b[0m\u001b[0;34m.\u001b[0m\u001b[0mread_csv\u001b[0m\u001b[0;34m(\u001b[0m\u001b[0;34m'data/Advertising.csv'\u001b[0m\u001b[0;34m,\u001b[0m \u001b[0mindex_col\u001b[0m\u001b[0;34m=\u001b[0m\u001b[0;36m0\u001b[0m\u001b[0;34m)\u001b[0m\u001b[0;34m\u001b[0m\u001b[0;34m\u001b[0m\u001b[0m\n\u001b[1;32m      5\u001b[0m \u001b[0mdados_adv0\u001b[0m \u001b[0;34m=\u001b[0m \u001b[0mdados_adv0\u001b[0m\u001b[0;34m.\u001b[0m\u001b[0msample\u001b[0m\u001b[0;34m(\u001b[0m\u001b[0mfrac\u001b[0m\u001b[0;34m=\u001b[0m\u001b[0;36m1\u001b[0m\u001b[0;34m)\u001b[0m\u001b[0;34m\u001b[0m\u001b[0;34m\u001b[0m\u001b[0m\n",
      "\u001b[0;31mModuleNotFoundError\u001b[0m: No module named 'pandas'"
     ]
    }
   ],
   "source": [
    "import pandas as pd\n",
    "from sklearn import preprocessing\n",
    "\n",
    "dados_adv0 = pd.read_csv('data/Advertising.csv', index_col=0)\n",
    "dados_adv0 = dados_adv0.sample(frac=1)\n",
    "\n",
    "scaler = preprocessing.MinMaxScaler()\n",
    "names = dados_adv0.columns\n",
    "d = scaler.fit_transform(dados_adv0)\n",
    "dados_adv = pd.DataFrame(d, columns=names)\n",
    "#dados_adv = preprocessing.normalize(dados_adv0)\n",
    "dados_adv.head()"
   ]
  },
  {
   "cell_type": "markdown",
   "id": "6bc4232e",
   "metadata": {},
   "source": [
    "Advertising é um conjunto de dados relacionando o montante de vendas (sales) com o montante investido em marketing em diferentes médias (TV,radio e newspaper).\n",
    "\n",
    "Por sua vez, Portland_housePrices relaciona o preço de casas com seu tamanho e número de quartos."
   ]
  },
  {
   "cell_type": "code",
   "execution_count": null,
   "id": "e527e14a",
   "metadata": {},
   "outputs": [],
   "source": [
    "dados_por0 = pd.read_csv('data/Portland_housePrices.csv', index_col=None)\n",
    "dados_por0 = dados_por0.sample(frac=1)\n",
    "scaler = preprocessing.MinMaxScaler()\n",
    "names2 = dados_por0.columns\n",
    "d2 = scaler.fit_transform(dados_por0)\n",
    "dados_por = pd.DataFrame(d2, columns=names2)\n",
    "#dados_por = preprocessing.normalize(dados_por0)\n",
    "dados_por.head()"
   ]
  },
  {
   "cell_type": "markdown",
   "id": "47ffc37d",
   "metadata": {},
   "source": [
    "## Como treinar e usar modelos?\n",
    "Para virtualmente qualquer tipo de algoritmo de Regressão, existirá uma função fit para treinar o modelo.\n",
    "\n",
    "Por exemplo, para a regressão linear:\n",
    "\n",
    "reg = LinearRegression().fit(X,y)\n",
    "Onde X se refere aos atributos de treinamento e y à variável resposta."
   ]
  },
  {
   "cell_type": "code",
   "execution_count": null,
   "id": "15ac788a",
   "metadata": {},
   "outputs": [],
   "source": [
    "from sklearn.linear_model import LinearRegression\n",
    "#Treina modelo utilizando dados de tamanho para prever preco\n",
    "X = dados_por.loc[:,['tamanho']]\n",
    "#X = dados_por.loc[:,['quartos']]\n",
    "y = dados_por.loc[:,['preco']]\n",
    "\n",
    "#X = preprocessing.normalize(xp)\n",
    "\n",
    "\n",
    "div1 = int(split * len(X))\n",
    "xtrain = X[:div1]\n",
    "xtest = X[div1:]\n",
    "\n",
    "div2 = int(split * len(y))\n",
    "ytrain = y[:div2]\n",
    "ytest = y[div2:]\n",
    "\n",
    "\n",
    "reg = LinearRegression().fit(xtrain,ytrain)\n",
    "reg"
   ]
  },
  {
   "cell_type": "code",
   "execution_count": null,
   "id": "f4adeb04",
   "metadata": {},
   "outputs": [],
   "source": [
    "# Após treinado, o modelo pode ser utilizado para fazer predições (prever y para novos exemplos), através da função predict\n",
    "\n",
    "y_hat = reg.predict(xtest[0:4])\n",
    "y_hat"
   ]
  },
  {
   "cell_type": "code",
   "execution_count": null,
   "id": "538bab90",
   "metadata": {},
   "outputs": [],
   "source": [
    "plt.scatter(xtest, ytest,color='g')\n",
    "plt.plot(xtest, reg.predict(xtest),color='k')\n",
    "plt.xlabel('Tamanho (pe2)')\n",
    "plt.ylabel('Preço')"
   ]
  },
  {
   "cell_type": "code",
   "execution_count": null,
   "id": "ad9bc39c",
   "metadata": {},
   "outputs": [],
   "source": [
    "rssr = calc_rss(ytest, reg.predict(xtest))\n",
    "r2r = calc_r2(ytest, reg.predict(xtest))\n",
    "mser = calc_mse(ytest, reg.predict(xtest))\n",
    "\n",
    "print(rssr)\n",
    "print(r2r)\n",
    "print(mser)"
   ]
  },
  {
   "cell_type": "markdown",
   "id": "2aba6dae",
   "metadata": {},
   "source": [
    "## Regressão Linear Multivariada\n",
    "A classe LinearRegression já está implementada de modo a funcionar com múltiplos atributos preditores.\n",
    "\n",
    "Também é possível utilizar o método de Descida de Gradiente através da classe SGDRegressor: https://scikit-learn.org/stable/modules/generated/sklearn.linear_model.SGDRegressor.html"
   ]
  },
  {
   "cell_type": "code",
   "execution_count": null,
   "id": "5bfa06c8",
   "metadata": {},
   "outputs": [],
   "source": [
    "from sklearn.linear_model import SGDRegressor\n",
    "reg_grad = SGDRegressor(max_iter=5000,alpha=0) #alpha = 0 significa que o modelo nao usa regularização (a ser explicado nas próximas aulas)\n",
    "reg_grad.fit(X,y.values.ravel())"
   ]
  },
  {
   "cell_type": "code",
   "execution_count": null,
   "id": "086e3b6d",
   "metadata": {},
   "outputs": [],
   "source": [
    "plt.scatter(X, y,color='g')\n",
    "plt.plot(X, reg_grad.predict(X),color='k')\n",
    "plt.xlabel('Tamanho (pe2)')\n",
    "plt.ylabel('Preço')"
   ]
  },
  {
   "cell_type": "code",
   "execution_count": null,
   "id": "6327dfb6",
   "metadata": {},
   "outputs": [],
   "source": [
    "rss = calc_rss(y,reg.predict(X))\n",
    "r2 = calc_r2(y,reg_grad.predict(X))\n",
    "mse = calc_mse(y,reg_grad.predict(X))\n",
    "print(rss)\n",
    "print(r2)\n",
    "print(mse)"
   ]
  },
  {
   "cell_type": "markdown",
   "id": "21c9d56e",
   "metadata": {},
   "source": [
    "#### Entretanto... o algoritmo não aprende quando os dados são usados diretamente.\n",
    "\n",
    "### Por quê?\n",
    "\n",
    "A escala dos dados atrapalha o algoritmo. Tente treinar o regressor linear com descida do gradiente depois de normalizar os dados de entrada."
   ]
  },
  {
   "cell_type": "markdown",
   "id": "611fdf6b",
   "metadata": {},
   "source": [
    "## Exercício 1\n",
    "Para cada um dos conjuntos de treinamento, utilize a função fit múltiplas vezes considerando apenas um atributo preditor.\n",
    "\n",
    "1) O modelo aprendido muda a cada vez que a função fit é utilizada?\n",
    "\n",
    "2) Os modelos finais aprendidos são os mesmos da outra implementação de regressão linear?"
   ]
  },
  {
   "cell_type": "code",
   "execution_count": null,
   "id": "8915fcb2",
   "metadata": {},
   "outputs": [],
   "source": [
    "div1 = int(split * len(X))\n",
    "xtrain = X[:div1]\n",
    "xtest = X[div1:]\n",
    "\n",
    "div2 = int(split * len(y))\n",
    "ytrain = y[:div2]\n",
    "ytest = y[div2:]\n"
   ]
  },
  {
   "cell_type": "code",
   "execution_count": null,
   "id": "2e052722",
   "metadata": {},
   "outputs": [],
   "source": [
    "# Múltiplos fit na regressão linear\n",
    "reg2 = LinearRegression().fit(xtrain,ytrain)\n",
    "reg2 = LinearRegression().fit(xtrain,ytrain)\n",
    "reg2 = LinearRegression().fit(xtrain,ytrain)\n",
    "reg2 = LinearRegression().fit(xtrain,ytrain)\n",
    "reg2 = LinearRegression().fit(xtrain,ytrain)\n",
    "y_hat = reg2.predict(xtest[0:4])\n",
    "y_hat"
   ]
  },
  {
   "cell_type": "code",
   "execution_count": null,
   "id": "9cd3750d",
   "metadata": {},
   "outputs": [],
   "source": [
    "rss2 = calc_rss(ytest,reg2.predict(xtest))\n",
    "r22 = calc_r2(ytest,reg2.predict(xtest))\n",
    "mse2 = calc_mse(ytest,reg2.predict(xtest))\n",
    "print(rss2)\n",
    "print(r22)\n",
    "print(mse2)"
   ]
  },
  {
   "cell_type": "code",
   "execution_count": null,
   "id": "b17d6217",
   "metadata": {},
   "outputs": [],
   "source": [
    "# Múltiplos fit no gradiente descendente\n",
    "reg_grad.fit(xtrain,ytrain.values.ravel())\n",
    "reg_grad.fit(xtrain,ytrain.values.ravel())\n",
    "reg_grad.fit(xtrain,ytrain.values.ravel())\n",
    "reg_grad.fit(xtrain,ytrain.values.ravel())\n",
    "reg_grad.fit(xtrain,ytrain.values.ravel())\n",
    "\n",
    "rss2 = calc_rss(ytest,reg.predict(xtest))\n",
    "r22 = calc_r2(ytest,reg_grad.predict(xtest))\n",
    "mse2 = calc_mse(ytest,reg_grad.predict(xtest))\n",
    "\n",
    "print(rss2)\n",
    "print(r22)\n",
    "print(mse2)"
   ]
  },
  {
   "cell_type": "code",
   "execution_count": null,
   "id": "969a587e",
   "metadata": {},
   "outputs": [],
   "source": [
    "plt.scatter(X, y,color='g')\n",
    "plt.plot(X, reg_grad.predict(X),color='k')\n",
    "plt.xlabel('Tamanho (pe2)')\n",
    "plt.ylabel('Preço')"
   ]
  },
  {
   "cell_type": "code",
   "execution_count": null,
   "id": "754815f4",
   "metadata": {},
   "outputs": [],
   "source": [
    "plt.scatter(xtest, ytest,color='g')\n",
    "plt.plot(xtest, reg.predict(xtest),color='k')\n",
    "plt.xlabel('Tamanho (pe2)')\n",
    "plt.ylabel('Preço')"
   ]
  },
  {
   "cell_type": "markdown",
   "id": "e0788b17",
   "metadata": {},
   "source": [
    "**R1:** O modelo muda.\n",
    "\n",
    "**R2:** Não, o treino altera o modelo."
   ]
  },
  {
   "cell_type": "markdown",
   "id": "ebcc58e2",
   "metadata": {},
   "source": [
    "## Exercício 2\n",
    "Aprenda modelos utilizando todos os atributos de entrada.\n",
    "\n",
    "1) Baseado no RSS e no R^2, é possível obter um modelo melhor utilizando todos os dados?\n",
    "\n",
    "2) Existem atributos que poderiam ser desconsiderados sem que fosse afetada a precisão?\n",
    "\n",
    "3) Qual implementação treina mais rápido? A com método dos mínimos quadrados ou a com descida de gradiente?"
   ]
  },
  {
   "cell_type": "code",
   "execution_count": null,
   "id": "56cdb240",
   "metadata": {},
   "outputs": [],
   "source": [
    "xt = dados_por.loc[:,['tamanho', 'quartos']]\n",
    "yt = dados_por.loc[:,['preco']]\n",
    "\n",
    "div1 = int(split * len(xt))\n",
    "xtraint = xt[:div1]\n",
    "xtestt = xt[div1:]\n",
    "\n",
    "div2 = int(split * len(yt))\n",
    "ytraint = yt[:div2]\n",
    "ytestt = yt[div2:]"
   ]
  },
  {
   "cell_type": "code",
   "execution_count": null,
   "id": "fcb333f2",
   "metadata": {},
   "outputs": [],
   "source": [
    "start = time.time()\n",
    "regt = LinearRegression().fit(xtraint,ytraint)\n",
    "end = time.time()\n",
    "print(\"Tempo to execucao:\", end-start)\n",
    "y_hatt = regt.predict(xtraint[0:4])"
   ]
  },
  {
   "cell_type": "code",
   "execution_count": null,
   "id": "a397d5a5",
   "metadata": {},
   "outputs": [],
   "source": [
    "rsst = calc_rss(ytestt,regt.predict(xtestt))\n",
    "r2t = calc_r2(ytestt,regt.predict(xtestt))\n",
    "mset = calc_mse(ytestt,regt.predict(xtestt))\n",
    "\n",
    "# Tamanho\n",
    "print(\"Tamanho:\")\n",
    "print(rssr)\n",
    "print(r2r)\n",
    "print(mser)\n",
    "print(\"\\n\")\n",
    "\n",
    "# Tamanho, Quartos\n",
    "print(\"Tamanho, Quartos:\")\n",
    "print(rsst)\n",
    "print(r2t)\n",
    "print(mset)"
   ]
  },
  {
   "cell_type": "code",
   "execution_count": null,
   "id": "6cddf10b",
   "metadata": {},
   "outputs": [],
   "source": [
    "reg_grad2 = SGDRegressor() #alpha = 0 significa que o modelo nao usa regularização (a ser explicado nas próximas aulas)\n",
    "\n",
    "start2 = time.time()\n",
    "reg_grad2.fit(xtrain,ytrain.values.ravel())\n",
    "end2 = time.time()\n",
    "print(\"Tempo to execucao:\", end2-start2)"
   ]
  },
  {
   "cell_type": "markdown",
   "id": "02a9226a",
   "metadata": {},
   "source": [
    "**R1:** O número de quartos afeta muito pouco o resultado de RSS e R².\n",
    "\n",
    "**R2:** O número de quartos pode ser desconsiderado.\n",
    "\n",
    "**R3:** O tempo de treinamento com o gradiente descende foi menor."
   ]
  },
  {
   "cell_type": "markdown",
   "id": "7e348494",
   "metadata": {},
   "source": [
    "## Exercício 3\n",
    "Realizar a análise da qualidade dos preditores utilizados no modelo construído.\n",
    "\n",
    "1) Construir o plot de resíduos. Será que os resíduos estão aleatoriamente distribuídos ao redor de 0?\n",
    "\n",
    "2) Calcular os valores p para os preditores utilizados no modelo de regressão. Utilize esse link como referência:\n",
    "https://stackoverflow.com/questions/27928275/find-p-value-significance-in-scikit-learn-linearregression/42677750#42677750\n",
    "Utilizar essa técnica para selecionar variáveis preditivas. Comparar o desempenho do modelo construído a partir de variáveis preditivas com melhores valores p com um modelo que contêm todas as variáveis.\n"
   ]
  },
  {
   "cell_type": "code",
   "execution_count": null,
   "id": "2cbc361a",
   "metadata": {},
   "outputs": [],
   "source": [
    "from scipy import stats\n",
    "import numpy as np\n",
    "xtrain = np.random.random(10)\n",
    "ytrain = np.random.random(10)\n",
    "# r_value = stats.linregress(xtrain,ytrain)\n",
    "slope, intercept, r_value, p_value, std_err = stats.linregress(xtrain,ytrain)\n",
    "print(\"r-squared train:\", r_value**2, p_value)\n",
    "\n",
    "xtraint = np.random.random(10)\n",
    "ytraint = np.random.random(10)\n",
    "\n",
    "slope, intercept, r_value, p_value, std_err = stats.linregress(xtraint,ytraint)\n",
    "print(\"r-squared train:\", r_value**2, p_value)\n",
    "\n",
    "#r_value, p_value = stats.linregress(X,y)\n",
    "#print(\"r-squared tudo:\", r_value**2)"
   ]
  },
  {
   "cell_type": "markdown",
   "id": "218e8d83",
   "metadata": {},
   "source": [
    "## Exercício 4\n",
    "Realizar o teste para descobrir multicolinearidade entre variáveis preditivas;\n",
    "\n",
    "1) Utilizando esse link: https://www.geeksforgeeks.org/detecting-multicollinearity-with-vif-python/ fazer o cáclulo do fator de inflação da variância (Variance Inflation Factor - VIF). Existe alguma evidência de multicolinearidade entre as variáveis preditivas?"
   ]
  },
  {
   "cell_type": "code",
   "execution_count": null,
   "id": "2180b0ee",
   "metadata": {},
   "outputs": [],
   "source": [
    "from statsmodels.stats.outliers_influence import variance_inflation_factor"
   ]
  },
  {
   "cell_type": "code",
   "execution_count": null,
   "id": "4e460cf7",
   "metadata": {},
   "outputs": [],
   "source": [
    "vif_data = pd.DataFrame()\n",
    "vif_data[\"feature\"] = X.columns\n"
   ]
  },
  {
   "cell_type": "code",
   "execution_count": null,
   "id": "19b2a1c8",
   "metadata": {},
   "outputs": [],
   "source": [
    "# calculating VIF for each feature\n",
    "i = 0\n",
    "vif_data[\"VIF\"] = [variance_inflation_factor(X.values, i)\n",
    "                          for i in range(len(X.columns))]\n",
    "  \n",
    "print(vif_data)"
   ]
  },
  {
   "cell_type": "code",
   "execution_count": null,
   "id": "cfc48e38",
   "metadata": {},
   "outputs": [],
   "source": []
  }
 ],
 "metadata": {
  "kernelspec": {
   "display_name": "Python 3 (ipykernel)",
   "language": "python",
   "name": "python3"
  },
  "language_info": {
   "codemirror_mode": {
    "name": "ipython",
    "version": 3
   },
   "file_extension": ".py",
   "mimetype": "text/x-python",
   "name": "python",
   "nbconvert_exporter": "python",
   "pygments_lexer": "ipython3",
   "version": "3.8.11"
  }
 },
 "nbformat": 4,
 "nbformat_minor": 5
}
