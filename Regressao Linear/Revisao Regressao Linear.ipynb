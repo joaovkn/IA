{
 "cells": [
  {
   "cell_type": "code",
   "execution_count": 1,
   "id": "9e1c5d97",
   "metadata": {},
   "outputs": [],
   "source": [
    "import pandas as pd\n",
    "from sklearn import preprocessing\n",
    "\n",
    "advert = pd.read_csv('data/Advertising.csv', index_col=0)"
   ]
  },
  {
   "cell_type": "code",
   "execution_count": 2,
   "id": "e8716e83",
   "metadata": {},
   "outputs": [
    {
     "data": {
      "text/html": [
       "<div>\n",
       "<style scoped>\n",
       "    .dataframe tbody tr th:only-of-type {\n",
       "        vertical-align: middle;\n",
       "    }\n",
       "\n",
       "    .dataframe tbody tr th {\n",
       "        vertical-align: top;\n",
       "    }\n",
       "\n",
       "    .dataframe thead th {\n",
       "        text-align: right;\n",
       "    }\n",
       "</style>\n",
       "<table border=\"1\" class=\"dataframe\">\n",
       "  <thead>\n",
       "    <tr style=\"text-align: right;\">\n",
       "      <th></th>\n",
       "      <th>TV</th>\n",
       "      <th>radio</th>\n",
       "      <th>newspaper</th>\n",
       "      <th>sales</th>\n",
       "    </tr>\n",
       "  </thead>\n",
       "  <tbody>\n",
       "    <tr>\n",
       "      <th>1</th>\n",
       "      <td>230.1</td>\n",
       "      <td>37.8</td>\n",
       "      <td>69.2</td>\n",
       "      <td>22.1</td>\n",
       "    </tr>\n",
       "    <tr>\n",
       "      <th>2</th>\n",
       "      <td>44.5</td>\n",
       "      <td>39.3</td>\n",
       "      <td>45.1</td>\n",
       "      <td>10.4</td>\n",
       "    </tr>\n",
       "    <tr>\n",
       "      <th>3</th>\n",
       "      <td>17.2</td>\n",
       "      <td>45.9</td>\n",
       "      <td>69.3</td>\n",
       "      <td>9.3</td>\n",
       "    </tr>\n",
       "    <tr>\n",
       "      <th>4</th>\n",
       "      <td>151.5</td>\n",
       "      <td>41.3</td>\n",
       "      <td>58.5</td>\n",
       "      <td>18.5</td>\n",
       "    </tr>\n",
       "    <tr>\n",
       "      <th>5</th>\n",
       "      <td>180.8</td>\n",
       "      <td>10.8</td>\n",
       "      <td>58.4</td>\n",
       "      <td>12.9</td>\n",
       "    </tr>\n",
       "  </tbody>\n",
       "</table>\n",
       "</div>"
      ],
      "text/plain": [
       "      TV  radio  newspaper  sales\n",
       "1  230.1   37.8       69.2   22.1\n",
       "2   44.5   39.3       45.1   10.4\n",
       "3   17.2   45.9       69.3    9.3\n",
       "4  151.5   41.3       58.5   18.5\n",
       "5  180.8   10.8       58.4   12.9"
      ]
     },
     "execution_count": 2,
     "metadata": {},
     "output_type": "execute_result"
    }
   ],
   "source": [
    "advert.head()"
   ]
  },
  {
   "cell_type": "code",
   "execution_count": 3,
   "id": "3f74d173",
   "metadata": {},
   "outputs": [
    {
     "data": {
      "text/html": [
       "<div>\n",
       "<style scoped>\n",
       "    .dataframe tbody tr th:only-of-type {\n",
       "        vertical-align: middle;\n",
       "    }\n",
       "\n",
       "    .dataframe tbody tr th {\n",
       "        vertical-align: top;\n",
       "    }\n",
       "\n",
       "    .dataframe thead th {\n",
       "        text-align: right;\n",
       "    }\n",
       "</style>\n",
       "<table border=\"1\" class=\"dataframe\">\n",
       "  <thead>\n",
       "    <tr style=\"text-align: right;\">\n",
       "      <th></th>\n",
       "      <th>X</th>\n",
       "      <th>y</th>\n",
       "    </tr>\n",
       "  </thead>\n",
       "  <tbody>\n",
       "    <tr>\n",
       "      <th>0</th>\n",
       "      <td>5.910131</td>\n",
       "      <td>4.714615</td>\n",
       "    </tr>\n",
       "    <tr>\n",
       "      <th>1</th>\n",
       "      <td>2.500393</td>\n",
       "      <td>2.076238</td>\n",
       "    </tr>\n",
       "    <tr>\n",
       "      <th>2</th>\n",
       "      <td>3.946845</td>\n",
       "      <td>2.548811</td>\n",
       "    </tr>\n",
       "    <tr>\n",
       "      <th>3</th>\n",
       "      <td>7.102233</td>\n",
       "      <td>4.615368</td>\n",
       "    </tr>\n",
       "    <tr>\n",
       "      <th>4</th>\n",
       "      <td>6.168895</td>\n",
       "      <td>3.264107</td>\n",
       "    </tr>\n",
       "    <tr>\n",
       "      <th>5</th>\n",
       "      <td>-0.943195</td>\n",
       "      <td>2.688852</td>\n",
       "    </tr>\n",
       "    <tr>\n",
       "      <th>6</th>\n",
       "      <td>3.875221</td>\n",
       "      <td>2.955757</td>\n",
       "    </tr>\n",
       "    <tr>\n",
       "      <th>7</th>\n",
       "      <td>1.121607</td>\n",
       "      <td>1.962755</td>\n",
       "    </tr>\n",
       "    <tr>\n",
       "      <th>8</th>\n",
       "      <td>1.241953</td>\n",
       "      <td>3.334057</td>\n",
       "    </tr>\n",
       "    <tr>\n",
       "      <th>9</th>\n",
       "      <td>2.526496</td>\n",
       "      <td>3.498206</td>\n",
       "    </tr>\n",
       "  </tbody>\n",
       "</table>\n",
       "</div>"
      ],
      "text/plain": [
       "          X         y\n",
       "0  5.910131  4.714615\n",
       "1  2.500393  2.076238\n",
       "2  3.946845  2.548811\n",
       "3  7.102233  4.615368\n",
       "4  6.168895  3.264107\n",
       "5 -0.943195  2.688852\n",
       "6  3.875221  2.955757\n",
       "7  1.121607  1.962755\n",
       "8  1.241953  3.334057\n",
       "9  2.526496  3.498206"
      ]
     },
     "execution_count": 3,
     "metadata": {},
     "output_type": "execute_result"
    }
   ],
   "source": [
    "import numpy as np\n",
    "from matplotlib import pyplot as plt\n",
    "\n",
    "np.random.seed(0)\n",
    "X = 2.5 * np.random.randn(100) + 1.5\n",
    "res = 0.5 * np.random.randn(100)\n",
    "y = 2 + 0.3 * X + res\n",
    "\n",
    "df = pd.DataFrame(\n",
    "    {\n",
    "        'X': X,\n",
    "        'y': y\n",
    "    }\n",
    ")\n",
    "\n",
    "df.head(10)"
   ]
  },
  {
   "cell_type": "code",
   "execution_count": 4,
   "id": "6a7ee82b",
   "metadata": {},
   "outputs": [
    {
     "name": "stdout",
     "output_type": "stream",
     "text": [
      "alpha = 2.0031670124623426\n",
      "beta = 0.3229396867092763\n"
     ]
    }
   ],
   "source": [
    "\n",
    "# Calculando as médias de X e y.\n",
    "xmean = np.mean(X)\n",
    "ymean = np.mean(y)\n",
    "\n",
    "# Calcular os termos necessários para encontrar 𝛽, \n",
    "# i.e., o numerador (covariancia entre X e y) e o denominador (variância de X).\n",
    "df['xycov'] = (df['X'] - xmean) * (df['y'] - ymean)\n",
    "df['xvar'] = (df['X'] - xmean)**2\n",
    "\n",
    "# Computando 𝛽 e 𝛼.\n",
    "beta = df['xycov'].sum() / df['xvar'].sum()\n",
    "alpha = ymean - (beta * xmean)\n",
    "print(f'alpha = {alpha}')\n",
    "print(f'beta = {beta}')"
   ]
  },
  {
   "cell_type": "code",
   "execution_count": 5,
   "id": "54f54c05",
   "metadata": {},
   "outputs": [
    {
     "name": "stdout",
     "output_type": "stream",
     "text": [
      "[3.91178282 2.81064315 3.27775989 4.29675991 3.99534802 1.69857201\n",
      " 3.25462968 2.36537842 2.40424288 2.81907292 2.60387001 3.66168312\n",
      " 3.10199975 2.58581077 2.84592918 2.75696825 3.69382011 2.32194218\n",
      " 2.74033151 1.79802302 0.42642221 3.015275   3.18547843 1.88839019\n",
      " 4.32006116 1.31339555 2.52451965 2.33645381 3.72506464 3.67386219\n",
      " 2.61267323 2.79288576 1.77082341 0.88838207 2.20668994 2.61380476\n",
      " 3.48085076 3.45831697 2.17486854 2.24351265 1.64102813 1.34112617\n",
      " 1.11002064 4.06253353 2.07610925 2.1338976  1.47613319 3.11528277\n",
      " 1.18459738 2.31582084 1.76462232 2.79994197 2.07517841 1.53439407\n",
      " 2.46482364 2.83338994 2.54127917 2.73177699 1.9754571  2.19471775\n",
      " 1.94466613 2.19729158 1.83108353 1.09386364 2.6308214  2.16319902\n",
      " 1.17143718 2.86120343 1.75506992 2.52951462 3.07620724 2.59171079\n",
      " 3.40747079 1.49064088 2.81240675 1.93469565 1.78453915 2.02024272\n",
      " 2.23604485 2.53292159 1.54689373 3.2148581  2.86352875 1.24729141\n",
      " 3.68911579 4.01822118 3.43926331 2.34231437 1.62310525 3.33888732\n",
      " 2.16207195 3.47451661 2.65572718 3.2760653  2.77528867 3.05802784\n",
      " 2.49605373 3.92939769 2.59003892 2.81212234]\n"
     ]
    }
   ],
   "source": [
    "ypred = alpha + beta * X\n",
    "print(ypred)"
   ]
  },
  {
   "cell_type": "code",
   "execution_count": 6,
   "id": "7a862d5d",
   "metadata": {},
   "outputs": [
    {
     "data": {
      "image/png": "[encoded data removed]",
      "text/plain": [
       "<Figure size 864x432 with 1 Axes>"
      ]
     },
     "metadata": {
      "needs_background": "light"
     },
     "output_type": "display_data"
    }
   ],
   "source": [
    "# Plotando a regressão contra os dados reais\n",
    "plt.figure(figsize=(12, 6))\n",
    "plt.plot(X, ypred)     # linha da regressão\n",
    "plt.plot(X, y, 'ro')   # scatter plot mostrando os dados reais\n",
    "plt.title('Real vs Predito')\n",
    "plt.xlabel('X')\n",
    "plt.ylabel('y')\n",
    "\n",
    "plt.show()"
   ]
  },
  {
   "cell_type": "code",
   "execution_count": null,
   "id": "0a308293",
   "metadata": {},
   "outputs": [],
   "source": []
  },
  {
   "cell_type": "code",
   "execution_count": 7,
   "id": "953fbf01",
   "metadata": {},
   "outputs": [],
   "source": [
    "from sklearn.linear_model import LinearRegression\n",
    "\n",
    "# Constroi o modelo de regressão linear usando as variáveis TV e Radio.\n",
    "# Separa os dados em variáveis de predição de entrada X e a saída y\n",
    "predictors = ['TV', 'radio', 'newspaper']\n",
    "#predictors = ['TV']\n",
    "X = advert[predictors]\n",
    "y = advert['sales']\n",
    "\n",
    "# Inicializa e ajusta o modelo\n",
    "lm = LinearRegression()\n",
    "model = lm.fit(X, y)"
   ]
  },
  {
   "cell_type": "code",
   "execution_count": 8,
   "id": "095a8532",
   "metadata": {},
   "outputs": [
    {
     "name": "stdout",
     "output_type": "stream",
     "text": [
      "vendas = [20.52397441 12.33785482 12.30767078 17.59782951 13.18867186 12.47834763\n",
      " 11.72975995 12.12295317  3.72734086 12.55084872  7.0322992  17.28512918\n",
      " 10.57712073  8.82630048 18.43436638 20.81929952 12.82365674 23.22495716\n",
      "  9.95168206 14.16607293 18.10076728 14.7405382   6.4891503  16.5459329\n",
      "  8.14651887 15.6100386  14.98951429 17.05167344 19.41053803  9.14402389\n",
      " 21.6339338  11.3460929   7.63888314 18.86426829  7.57483051 17.00682618\n",
      " 23.40590052 15.62347779  9.90868103 20.44761039 16.37766467 17.2959832\n",
      " 21.59580326 13.96385684  8.88787996 15.16152314  8.87338673 21.7226299\n",
      " 16.26362018  8.1681656  12.63121132  9.33981296 20.66297563 19.94469957\n",
      " 20.37443008 21.2926106   8.52771254 12.77458802 21.89805198 18.13348698\n",
      "  5.74215558 22.89067208 16.78426073 13.21069202 16.97773556  7.84904532\n",
      "  9.01603163 12.0370073  18.97657924 21.10891244 17.77949782 10.62693815\n",
      " 10.36684881  9.90298206 17.32931197 11.85832174  4.47758904 13.81190223\n",
      "  8.81331353  9.67530328 11.44592364 14.64794093 10.17840799 14.42184212\n",
      " 20.78136464 15.18140789 11.59870739 15.59378475 11.71127101 16.92225511\n",
      "  9.99922965  4.49631598 19.15639616 21.22757378 10.48212385 16.31492112\n",
      " 12.63571716 15.33707782 24.11860723 16.94035021 13.87595844 23.24248685\n",
      " 17.64409385 14.76221142 20.30110878 17.93641467  6.12602215  7.10850249\n",
      "  3.58725841 19.69293106 14.7598741  21.14027498 13.88060985 16.40377623\n",
      " 15.30509593 12.91968895 11.97874744  6.5707774  15.56609348  6.82006767\n",
      " 14.41010605  7.83807642 13.6264571  15.0827909  19.45441306  9.12734958\n",
      " 10.57717411  6.599669   22.25549161  7.88410649 10.4276871  15.57779819\n",
      "  8.44915012 19.26692307 11.8368039  14.00141385 11.45348627 20.85125198\n",
      "  9.76842795 19.67547632  9.48964097 18.39902932 19.24986927  8.76480262\n",
      " 10.09133403  9.70853872 15.29422368 23.26086103 12.26335941  9.8272711\n",
      " 18.36720534 10.0095377  16.3600003  18.22390132 15.50161696  5.3075589\n",
      " 15.38485192 10.0143112  10.38419866 12.39914823 14.21383298 13.55914568\n",
      " 14.94678206 17.35163608 11.0682946  14.22372138 10.82439531 13.36324677\n",
      " 17.1861428  17.9415563   7.39497997 14.35827373  7.60769238 11.97093887\n",
      " 13.74435742 24.78687031 19.9793727  12.1620464  16.01099722 12.38455495\n",
      " 10.5871997  13.92809918  6.55467    24.13310013 18.53852096 20.80301059\n",
      "  9.69137313 17.07644223 18.64430648  6.05162411 12.4891591   8.42401933\n",
      "  4.46622956 18.48695797 16.49530044  5.37034248  8.16531236 12.78592082\n",
      " 23.76732149 15.17319554]\n"
     ]
    }
   ],
   "source": [
    "vendas = model.predict(X)\n",
    "print(f'vendas = {vendas}')"
   ]
  },
  {
   "cell_type": "code",
   "execution_count": 12,
   "id": "41976168",
   "metadata": {},
   "outputs": [
    {
     "name": "stdout",
     "output_type": "stream",
     "text": [
      "[63.97060969]\n"
     ]
    }
   ],
   "source": [
    "new_X = [[100, 300, 100]]\n",
    "print(model.predict(new_X))"
   ]
  },
  {
   "cell_type": "code",
   "execution_count": null,
   "id": "3c27d75e",
   "metadata": {},
   "outputs": [],
   "source": []
  }
 ],
 "metadata": {
  "kernelspec": {
   "display_name": "Python 3 (ipykernel)",
   "language": "python",
   "name": "python3"
  },
  "language_info": {
   "codemirror_mode": {
    "name": "ipython",
    "version": 3
   },
   "file_extension": ".py",
   "mimetype": "text/x-python",
   "name": "python",
   "nbconvert_exporter": "python",
   "pygments_lexer": "ipython3",
   "version": "3.8.11"
  }
 },
 "nbformat": 4,
 "nbformat_minor": 5
}
