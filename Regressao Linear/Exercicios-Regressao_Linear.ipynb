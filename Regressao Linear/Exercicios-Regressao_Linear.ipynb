{
 "cells": [
  {
   "cell_type": "markdown",
   "metadata": {},
   "source": [
    "## Regressão\n",
    "\n",
    "O objetivo deste exercício é introduzir e praticar conceitos de Regressão. Para isso utilizaremos 2 bases: <i>Advertising.csv</i> e <i>Portland_housePrices.csv</i>"
   ]
  },
  {
   "cell_type": "code",
   "execution_count": 38,
   "metadata": {},
   "outputs": [
    {
     "data": {
      "text/html": [
       "<div>\n",
       "<style scoped>\n",
       "    .dataframe tbody tr th:only-of-type {\n",
       "        vertical-align: middle;\n",
       "    }\n",
       "\n",
       "    .dataframe tbody tr th {\n",
       "        vertical-align: top;\n",
       "    }\n",
       "\n",
       "    .dataframe thead th {\n",
       "        text-align: right;\n",
       "    }\n",
       "</style>\n",
       "<table border=\"1\" class=\"dataframe\">\n",
       "  <thead>\n",
       "    <tr style=\"text-align: right;\">\n",
       "      <th></th>\n",
       "      <th>TV</th>\n",
       "      <th>radio</th>\n",
       "      <th>newspaper</th>\n",
       "      <th>sales</th>\n",
       "    </tr>\n",
       "  </thead>\n",
       "  <tbody>\n",
       "    <tr>\n",
       "      <th>56</th>\n",
       "      <td>198.9</td>\n",
       "      <td>49.4</td>\n",
       "      <td>60.0</td>\n",
       "      <td>23.7</td>\n",
       "    </tr>\n",
       "    <tr>\n",
       "      <th>165</th>\n",
       "      <td>117.2</td>\n",
       "      <td>14.7</td>\n",
       "      <td>5.4</td>\n",
       "      <td>11.9</td>\n",
       "    </tr>\n",
       "    <tr>\n",
       "      <th>97</th>\n",
       "      <td>197.6</td>\n",
       "      <td>3.5</td>\n",
       "      <td>5.9</td>\n",
       "      <td>11.7</td>\n",
       "    </tr>\n",
       "    <tr>\n",
       "      <th>107</th>\n",
       "      <td>25.0</td>\n",
       "      <td>11.0</td>\n",
       "      <td>29.7</td>\n",
       "      <td>7.2</td>\n",
       "    </tr>\n",
       "    <tr>\n",
       "      <th>188</th>\n",
       "      <td>191.1</td>\n",
       "      <td>28.7</td>\n",
       "      <td>18.2</td>\n",
       "      <td>17.3</td>\n",
       "    </tr>\n",
       "  </tbody>\n",
       "</table>\n",
       "</div>"
      ],
      "text/plain": [
       "        TV  radio  newspaper  sales\n",
       "56   198.9   49.4       60.0   23.7\n",
       "165  117.2   14.7        5.4   11.9\n",
       "97   197.6    3.5        5.9   11.7\n",
       "107   25.0   11.0       29.7    7.2\n",
       "188  191.1   28.7       18.2   17.3"
      ]
     },
     "execution_count": 38,
     "metadata": {},
     "output_type": "execute_result"
    }
   ],
   "source": [
    "import pandas as pd\n",
    "\n",
    "dados_adv = pd.read_csv('data/Advertising.csv', index_col=0)\n",
    "dados_adv = dados_adv.sample(frac=1)\n",
    "dados_adv.head()"
   ]
  },
  {
   "cell_type": "markdown",
   "metadata": {},
   "source": [
    "<i>Advertising</i> é um conjunto de dados relacionando o montante de vendas (<i>sales</i>) com o montante investido em marketing em diferentes médias (<i>TV</i>,<i>radio</i> e <i>newspaper</i>).\n",
    "\n",
    "Por sua vez, <i>Portland_housePrices</i> relaciona o preço de casas com seu tamanho e número de quartos.\n",
    "\n"
   ]
  },
  {
   "cell_type": "code",
   "execution_count": 39,
   "metadata": {},
   "outputs": [
    {
     "data": {
      "text/html": [
       "<div>\n",
       "<style scoped>\n",
       "    .dataframe tbody tr th:only-of-type {\n",
       "        vertical-align: middle;\n",
       "    }\n",
       "\n",
       "    .dataframe tbody tr th {\n",
       "        vertical-align: top;\n",
       "    }\n",
       "\n",
       "    .dataframe thead th {\n",
       "        text-align: right;\n",
       "    }\n",
       "</style>\n",
       "<table border=\"1\" class=\"dataframe\">\n",
       "  <thead>\n",
       "    <tr style=\"text-align: right;\">\n",
       "      <th></th>\n",
       "      <th>tamanho</th>\n",
       "      <th>quartos</th>\n",
       "      <th>preco</th>\n",
       "    </tr>\n",
       "  </thead>\n",
       "  <tbody>\n",
       "    <tr>\n",
       "      <th>13</th>\n",
       "      <td>4478</td>\n",
       "      <td>5</td>\n",
       "      <td>699900</td>\n",
       "    </tr>\n",
       "    <tr>\n",
       "      <th>31</th>\n",
       "      <td>1000</td>\n",
       "      <td>1</td>\n",
       "      <td>169900</td>\n",
       "    </tr>\n",
       "    <tr>\n",
       "      <th>16</th>\n",
       "      <td>1320</td>\n",
       "      <td>2</td>\n",
       "      <td>299900</td>\n",
       "    </tr>\n",
       "    <tr>\n",
       "      <th>1</th>\n",
       "      <td>1600</td>\n",
       "      <td>3</td>\n",
       "      <td>329900</td>\n",
       "    </tr>\n",
       "    <tr>\n",
       "      <th>43</th>\n",
       "      <td>1200</td>\n",
       "      <td>3</td>\n",
       "      <td>299000</td>\n",
       "    </tr>\n",
       "  </tbody>\n",
       "</table>\n",
       "</div>"
      ],
      "text/plain": [
       "    tamanho  quartos   preco\n",
       "13     4478        5  699900\n",
       "31     1000        1  169900\n",
       "16     1320        2  299900\n",
       "1      1600        3  329900\n",
       "43     1200        3  299000"
      ]
     },
     "execution_count": 39,
     "metadata": {},
     "output_type": "execute_result"
    }
   ],
   "source": [
    "dados_por = pd.read_csv('data/Portland_housePrices.csv', index_col=None)\n",
    "dados_por = dados_por.sample(frac=1)\n",
    "dados_por.head()"
   ]
  },
  {
   "cell_type": "markdown",
   "metadata": {},
   "source": [
    "## Como treinar e usar modelos?\n",
    "Para virtualmente qualquer tipo de algoritmo de Regressão, existirá uma função <i>fit</i> para treinar o modelo.\n",
    "\n",
    "Por exemplo, para a regressão linear:\n",
    "\n",
    "```python\n",
    " reg = LinearRegression().fit(X,y)\n",
    "``` \n",
    "\n",
    "Onde <i> X </i> se refere aos atributos de treinamento e <i>y</i> à variável resposta.\n"
   ]
  },
  {
   "cell_type": "code",
   "execution_count": 40,
   "metadata": {},
   "outputs": [
    {
     "data": {
      "text/plain": [
       "LinearRegression()"
      ]
     },
     "execution_count": 40,
     "metadata": {},
     "output_type": "execute_result"
    }
   ],
   "source": [
    "from sklearn.linear_model import LinearRegression\n",
    "#Treina modelo utilizando dados de tamanho para prever preco\n",
    "X = dados_por.loc[:,['tamanho']]\n",
    "y = dados_por.loc[:,['preco']]\n",
    "\n",
    "reg = LinearRegression().fit(X,y)\n",
    "reg"
   ]
  },
  {
   "cell_type": "markdown",
   "metadata": {},
   "source": [
    "Após treinado, o modelo pode ser utilizado para fazer predições (prever <i>y</i> para novos exemplos), através da função <i>predict</i>"
   ]
  },
  {
   "cell_type": "code",
   "execution_count": 41,
   "metadata": {},
   "outputs": [
    {
     "data": {
      "text/plain": [
       "array([[673674.73085997],\n",
       "       [205795.78016897],\n",
       "       [248843.87223945],\n",
       "       [286510.95280112]])"
      ]
     },
     "execution_count": 41,
     "metadata": {},
     "output_type": "execute_result"
    }
   ],
   "source": [
    "y_hat = reg.predict(X[0:4])\n",
    "y_hat"
   ]
  },
  {
   "cell_type": "markdown",
   "metadata": {},
   "source": [
    "## Regressão Linear Univariada\n",
    "\n",
    "O framework disponibiliza uma classe <a href=\"https://scikit-learn.org/stable/modules/generated/sklearn.linear_model.LinearRegression.html\">LinearRegression</a> que implementa regressão linear com o método de mínimos quadrados:\n",
    "\n",
    "```python\n",
    "linear_model = LinearRegression()\n",
    "linear_model.fit(X,y)\n",
    "linear_model.predict(X)\n",
    "\n",
    "```\n",
    "## Avaliando Modelos\n",
    "\n",
    "Existem algumas formas de inspecionar ou avaliar o modelo aprendido. A primeira forma é visualizar o modelo em um gráfico.\n",
    "\n"
   ]
  },
  {
   "cell_type": "code",
   "execution_count": 42,
   "metadata": {},
   "outputs": [
    {
     "data": {
      "text/plain": [
       "Text(0, 0.5, 'Preço')"
      ]
     },
     "execution_count": 42,
     "metadata": {},
     "output_type": "execute_result"
    },
    {
     "data": {
      "image/png": "[encoded data removed]",
      "text/plain": [
       "<Figure size 432x288 with 1 Axes>"
      ]
     },
     "metadata": {
      "needs_background": "light"
     },
     "output_type": "display_data"
    }
   ],
   "source": [
    "from matplotlib import pyplot as plt\n",
    "\n",
    "plt.scatter(X, y,color='g')\n",
    "plt.plot(X, reg.predict(X),color='k')\n",
    "plt.xlabel('Tamanho (pe2)')\n",
    "plt.ylabel('Preço')"
   ]
  },
  {
   "cell_type": "markdown",
   "metadata": {},
   "source": [
    "Quando há mais de um atributo preditor, visualizar o modelo torna-se difícil, mas ainda é possível avaliar o modelo através do <b>erro quadrático (RSS)</b> ou a métrica <a href=\"https://scikit-learn.org/stable/modules/generated/sklearn.metrics.r2_score.html\"><b>R^2</b></a>"
   ]
  },
  {
   "cell_type": "code",
   "execution_count": 43,
   "metadata": {},
   "outputs": [],
   "source": [
    "from sklearn.metrics import r2_score\n",
    "from sklearn.metrics import mean_squared_error\n",
    "\n",
    "def calc_rss(y,predicted):\n",
    "    return float(((predicted - y) ** 2).sum())\n",
    "    \n",
    "def calc_r2(y,predicted):\n",
    "    return r2_score(predicted,y)\n",
    "\n",
    "def calc_mse(y, predicted):\n",
    "    return mean_squared_error(predicted, y, squared=False)"
   ]
  },
  {
   "cell_type": "code",
   "execution_count": 44,
   "metadata": {},
   "outputs": [
    {
     "name": "stdout",
     "output_type": "stream",
     "text": [
      "193464477600.70587\n",
      "0.632018025185115\n",
      "64158.12872010905\n"
     ]
    }
   ],
   "source": [
    "rss = calc_rss(y,reg.predict(X))\n",
    "r2 = calc_r2(y,reg.predict(X))\n",
    "mse1 = calc_mse(y,reg.predict(X))\n",
    "print(rss)\n",
    "print(r2)\n",
    "print(mse1)"
   ]
  },
  {
   "cell_type": "markdown",
   "metadata": {},
   "source": [
    "# Exercício 1\n",
    "Treine modelos lineares na base <i>Portland_housePrices.csv</i> utilizando apenas um dos atributos preditores.\n",
    "\n",
    "1) Observando visualmente o modelo, qual atributo parece mais razoável? o que foi aprendido com <i>tamanho</i> ou com <i>número de quartos</i>?\n",
    "\n",
    "2) O RSS e R^2 corroboram suas impressões observando o modelo?\n",
    "\n",
    "\n"
   ]
  },
  {
   "cell_type": "code",
   "execution_count": 45,
   "metadata": {},
   "outputs": [
    {
     "data": {
      "text/plain": [
       "array([[473382.65335463],\n",
       "       [182704.06230032],\n",
       "       [255373.7100639 ],\n",
       "       [328043.35782748]])"
      ]
     },
     "execution_count": 45,
     "metadata": {},
     "output_type": "execute_result"
    }
   ],
   "source": [
    "#Treina modelo utilizando dados de tamanho para prever preco\n",
    "#tamanhos, quartos, preço\n",
    "x2 = dados_por.loc[:,['quartos']]\n",
    "y2 = dados_por.loc[:,['preco']]\n",
    "\n",
    "reg2 = LinearRegression().fit(x2,y2)\n",
    "reg2\n",
    "\n",
    "y_hat2 = reg2.predict(x2[0:4])\n",
    "y_hat2"
   ]
  },
  {
   "cell_type": "code",
   "execution_count": 46,
   "metadata": {},
   "outputs": [
    {
     "data": {
      "text/plain": [
       "Text(0, 0.5, 'Preço')"
      ]
     },
     "execution_count": 46,
     "metadata": {},
     "output_type": "execute_result"
    },
    {
     "data": {
      "image/png": "[encoded data removed]",
      "text/plain": [
       "<Figure size 432x288 with 1 Axes>"
      ]
     },
     "metadata": {
      "needs_background": "light"
     },
     "output_type": "display_data"
    }
   ],
   "source": [
    "plt.scatter(x2, y2,color='g')\n",
    "plt.plot(x2, reg2.predict(x2),color='k')\n",
    "plt.xlabel('Quarto')\n",
    "plt.ylabel('Preço')"
   ]
  },
  {
   "cell_type": "code",
   "execution_count": 47,
   "metadata": {},
   "outputs": [
    {
     "name": "stdout",
     "output_type": "stream",
     "text": [
      "578535325112.5248\n",
      "-3.1126078554319987\n",
      "295802.92441860365\n"
     ]
    }
   ],
   "source": [
    "rss2 = calc_rss(y2,reg2.predict(x2))\n",
    "r22 = calc_r2(y2,reg2.predict(x2))\n",
    "mse2 = calc_mse(y2,reg.predict(x2))\n",
    "print(rss2)\n",
    "print(r22)\n",
    "print(mse2)"
   ]
  },
  {
   "cell_type": "markdown",
   "metadata": {},
   "source": [
    "R1: Observando visualmente é perceptível que a função está seguindo o crescimento linear do valor dos preços, permitindo uma predição melhor.\n",
    "R2: O mse/rss permite uma visualição melhor da linearidade, já em termos do r2 mostrou que o nº de quartos não representa proporcionalmente a predição."
   ]
  },
  {
   "cell_type": "markdown",
   "metadata": {},
   "source": [
    "# Exercício 2\n",
    "\n",
    "Treine modelos lineares na base <i>Advertising.csv</i> utilizando apenas um dos atributos preditores.\n",
    "\n",
    "1) Observando visualmente o modelo, qual atributo parece mais razoável? o que foi aprendido com TV, radio ou newspaper?\n",
    "\n",
    "2) Qual dos modelos é melhor? como você chegou a esta conclusão?"
   ]
  },
  {
   "cell_type": "code",
   "execution_count": 48,
   "metadata": {},
   "outputs": [
    {
     "data": {
      "text/plain": [
       "array([[16.48763133],\n",
       "       [12.60388781],\n",
       "       [16.4258337 ],\n",
       "       [ 8.22100956]])"
      ]
     },
     "execution_count": 48,
     "metadata": {},
     "output_type": "execute_result"
    }
   ],
   "source": [
    "#TV, radio,newspaper, sales\n",
    "x3 = dados_adv.loc[:,['TV']]\n",
    "y3 = dados_adv.loc[:,['sales']]\n",
    "\n",
    "reg3 = LinearRegression().fit(x3, y3)\n",
    "reg3\n",
    "\n",
    "y_hat3 = reg3.predict(x3[0:4])\n",
    "y_hat3"
   ]
  },
  {
   "cell_type": "code",
   "execution_count": 49,
   "metadata": {},
   "outputs": [
    {
     "data": {
      "text/plain": [
       "Text(0, 0.5, 'Sales')"
      ]
     },
     "execution_count": 49,
     "metadata": {},
     "output_type": "execute_result"
    },
    {
     "data": {
      "image/png": "[encoded data removed]",
      "text/plain": [
       "<Figure size 432x288 with 1 Axes>"
      ]
     },
     "metadata": {
      "needs_background": "light"
     },
     "output_type": "display_data"
    }
   ],
   "source": [
    "plt.scatter(x3, y3,color='g')\n",
    "plt.plot(x3, reg3.predict(x3),color='k')\n",
    "plt.xlabel('TV')\n",
    "plt.ylabel('Sales')"
   ]
  },
  {
   "cell_type": "code",
   "execution_count": 50,
   "metadata": {},
   "outputs": [
    {
     "name": "stdout",
     "output_type": "stream",
     "text": [
      "2102.5305831313517\n",
      "0.3656794003764141\n",
      "3.2423221486546887\n"
     ]
    }
   ],
   "source": [
    "rss3 = calc_rss(y3,reg3.predict(x3))\n",
    "r23 = calc_r2(y3,reg3.predict(x3))\n",
    "mse3 = calc_mse(y3,reg3.predict(x3))\n",
    "print(rss3)\n",
    "print(r23)\n",
    "print(mse3)"
   ]
  },
  {
   "cell_type": "code",
   "execution_count": 51,
   "metadata": {},
   "outputs": [
    {
     "data": {
      "text/plain": [
       "array([[19.31492979],\n",
       "       [12.28832611],\n",
       "       [10.02037334],\n",
       "       [11.53909171]])"
      ]
     },
     "execution_count": 51,
     "metadata": {},
     "output_type": "execute_result"
    }
   ],
   "source": [
    "#TV, radio, newspaper, sales\n",
    "x4 = dados_adv.loc[:,['radio']]\n",
    "y4 = dados_adv.loc[:,['sales']]\n",
    "\n",
    "reg4 = LinearRegression().fit(x4, y4)\n",
    "reg4\n",
    "\n",
    "y_hat4 = reg4.predict(x4[0:4])\n",
    "y_hat4"
   ]
  },
  {
   "cell_type": "code",
   "execution_count": 52,
   "metadata": {},
   "outputs": [
    {
     "data": {
      "text/plain": [
       "Text(0, 0.5, 'Sales')"
      ]
     },
     "execution_count": 52,
     "metadata": {},
     "output_type": "execute_result"
    },
    {
     "data": {
      "image/png": "[encoded data removed]",
      "text/plain": [
       "<Figure size 432x288 with 1 Axes>"
      ]
     },
     "metadata": {
      "needs_background": "light"
     },
     "output_type": "display_data"
    }
   ],
   "source": [
    "plt.scatter(x4, y4,color='g')\n",
    "plt.plot(x4, reg4.predict(x4),color='k')\n",
    "plt.xlabel('Radio')\n",
    "plt.ylabel('Sales')"
   ]
  },
  {
   "cell_type": "code",
   "execution_count": 53,
   "metadata": {},
   "outputs": [
    {
     "name": "stdout",
     "output_type": "stream",
     "text": [
      "3618.479549025088\n",
      "-1.011753771657292\n",
      "4.2535159274564185\n"
     ]
    }
   ],
   "source": [
    "rss4 = calc_rss(y4,reg4.predict(x4))\n",
    "r24 = calc_r2(y4,reg4.predict(x4))\n",
    "mse4 = calc_mse(y4,reg4.predict(x4))\n",
    "print(rss4)\n",
    "print(r24)\n",
    "print(mse4)"
   ]
  },
  {
   "cell_type": "code",
   "execution_count": 54,
   "metadata": {},
   "outputs": [
    {
     "data": {
      "text/plain": [
       "array([[15.63299298],\n",
       "       [12.6467498 ],\n",
       "       [12.67409635],\n",
       "       [13.97579209]])"
      ]
     },
     "execution_count": 54,
     "metadata": {},
     "output_type": "execute_result"
    }
   ],
   "source": [
    "#TV, radio, newspaper, sales\n",
    "x5 = dados_adv.loc[:,['newspaper']]\n",
    "y5 = dados_adv.loc[:,['sales']]\n",
    "\n",
    "reg5 = LinearRegression().fit(x5, y5)\n",
    "reg5\n",
    "\n",
    "y_hat5 = reg5.predict(x5[0:4])\n",
    "y_hat5"
   ]
  },
  {
   "cell_type": "code",
   "execution_count": 55,
   "metadata": {},
   "outputs": [
    {
     "data": {
      "text/plain": [
       "Text(0, 0.5, 'Sales')"
      ]
     },
     "execution_count": 55,
     "metadata": {},
     "output_type": "execute_result"
    },
    {
     "data": {
      "image/png": "[encoded data removed]",
      "text/plain": [
       "<Figure size 432x288 with 1 Axes>"
      ]
     },
     "metadata": {
      "needs_background": "light"
     },
     "output_type": "display_data"
    }
   ],
   "source": [
    "plt.scatter(x5, y5,color='g')\n",
    "plt.plot(x5, reg5.predict(x5),color='k')\n",
    "plt.xlabel('Newspaper')\n",
    "plt.ylabel('Sales')"
   ]
  },
  {
   "cell_type": "code",
   "execution_count": 56,
   "metadata": {},
   "outputs": [
    {
     "name": "stdout",
     "output_type": "stream",
     "text": [
      "5134.804544111939\n",
      "-17.186328732907334\n",
      "5.066953988399707\n"
     ]
    }
   ],
   "source": [
    "rss5 = calc_rss(y5,reg5.predict(x5))\n",
    "r25 = calc_r2(y5,reg5.predict(x5))\n",
    "mse5 = calc_mse(y5,reg5.predict(x5))\n",
    "print(rss5)\n",
    "print(r25)\n",
    "print(mse5)"
   ]
  },
  {
   "cell_type": "markdown",
   "metadata": {},
   "source": [
    "R1: A variável tv resultou em uma regressão mais fiel.\n",
    "R2: O valor do r2 está mais próximo de 1. E o valor do mse foi o menor."
   ]
  },
  {
   "cell_type": "markdown",
   "metadata": {},
   "source": [
    "# Exercício 3"
   ]
  },
  {
   "cell_type": "markdown",
   "metadata": {},
   "source": [
    "1. Compare os resultados das duas regressões com a implementação do KNN-Regressor visto na aula passada.\n",
    "\n",
    "1. Utilizando a API do scikit-learn para criação de partições de treino e teste, refaça a sua regressão nas partições de treino e faça a validação nas partições de teste.\n",
    "\n",
    "    1. Comparar os resultados na partição de treino e teste;\n",
    "    1. Comparar desempenho com a regressão na qual não foi feita a separação entre treino e teste. Você acha que o desempenho deveria ser melhor ou pior nesse caso? É possível dizer que os modelos treinados no dataset completo generalizam?\n"
   ]
  },
  {
   "cell_type": "code",
   "execution_count": 114,
   "metadata": {},
   "outputs": [
    {
     "data": {
      "text/plain": [
       "KNeighborsRegressor(n_neighbors=3)"
      ]
     },
     "execution_count": 114,
     "metadata": {},
     "output_type": "execute_result"
    }
   ],
   "source": [
    "from sklearn.neighbors import KNeighborsRegressor\n",
    "\n",
    "x6 = dados_por.loc[:,['tamanho', 'quartos']]\n",
    "y6 = dados_por.loc[:,['preco']]\n",
    "\n",
    "knn = KNeighborsRegressor(n_neighbors=3)\n",
    "\n",
    "# split = 0.3\n",
    "# div1 = int(split * len(x6))\n",
    "# xtrain = x6[:div1]\n",
    "# xtest = x6[div1:]\n",
    "\n",
    "# div2 = int(split * len(y6))\n",
    "# ytrain = y6[:div2]\n",
    "# ytest = y6[div2:]\n",
    "\n",
    "# knn.fit(xtrain,ytrain)\n",
    "knn.fit(x6,y6)"
   ]
  },
  {
   "cell_type": "code",
   "execution_count": 115,
   "metadata": {},
   "outputs": [
    {
     "data": {
      "text/plain": [
       "array([[607600.        ],\n",
       "       [199900.        ],\n",
       "       [257266.66666667],\n",
       "       [313766.66666667]])"
      ]
     },
     "execution_count": 115,
     "metadata": {},
     "output_type": "execute_result"
    }
   ],
   "source": [
    "# y_hat6 = knn.predict(xtest[0:4])\n",
    "\n",
    "y_hat6 = knn.predict(x6[0:4])\n",
    "y_hat6"
   ]
  },
  {
   "cell_type": "code",
   "execution_count": 116,
   "metadata": {},
   "outputs": [
    {
     "name": "stdout",
     "output_type": "stream",
     "text": [
      "154464153316.22226\n",
      "0.7396984559304259\n",
      "57327.75372499489\n"
     ]
    }
   ],
   "source": [
    "# rss6 = calc_rss(ytest, knn.predict(xtest))\n",
    "# r26 = calc_r2(ytest, knn.predict(xtest))\n",
    "# mse6 = calc_mse(ytest, knn.predict(xtest))\n",
    "\n",
    "rss6 = calc_rss(y6, knn.predict(x6))\n",
    "r26 = calc_r2(y6, knn.predict(x6))\n",
    "mse6 = calc_mse(y6, knn.predict(x6))\n",
    "\n",
    "print(rss6)\n",
    "print(r26)\n",
    "print(mse6)"
   ]
  },
  {
   "cell_type": "code",
   "execution_count": 96,
   "metadata": {},
   "outputs": [
    {
     "data": {
      "text/plain": [
       "KNeighborsRegressor(n_neighbors=3)"
      ]
     },
     "execution_count": 96,
     "metadata": {},
     "output_type": "execute_result"
    }
   ],
   "source": [
    "x7 = dados_adv.loc[:,['TV', 'radio', 'newspaper']]\n",
    "y7 = dados_adv.loc[:,['sales']]\n",
    "\n",
    "knn2 = KNeighborsRegressor(n_neighbors=3)\n",
    "\n",
    "split = 0.3\n",
    "div3 = int(split * len(x7))\n",
    "xtrain2 = x7[:div1]\n",
    "xtest2 = x7[div1:]\n",
    "\n",
    "div4 = int(split * len(y7))\n",
    "ytrain2 = y7[:div2]\n",
    "ytest2 = y7[div2:]\n",
    "\n",
    "knn2.fit(xtest2,ytest2)"
   ]
  },
  {
   "cell_type": "code",
   "execution_count": 100,
   "metadata": {},
   "outputs": [
    {
     "data": {
      "text/plain": [
       "array([[13.3       ],\n",
       "       [15.2       ],\n",
       "       [19.93333333],\n",
       "       [ 8.76666667]])"
      ]
     },
     "execution_count": 100,
     "metadata": {},
     "output_type": "execute_result"
    }
   ],
   "source": [
    "y_hat7 = knn2.predict(xtest2[0:4])\n",
    "y_hat7"
   ]
  },
  {
   "cell_type": "code",
   "execution_count": 101,
   "metadata": {},
   "outputs": [
    {
     "name": "stdout",
     "output_type": "stream",
     "text": [
      "170.45555555555558\n",
      "0.9626559240183575\n",
      "0.9573023127730452\n"
     ]
    }
   ],
   "source": [
    "rss7 = calc_rss(ytest2,knn2.predict(xtest2))\n",
    "r27 = calc_r2(ytest2,knn2.predict(xtest2))\n",
    "mse7 = calc_mse(ytest2,knn2.predict(xtest2))\n",
    "print(rss7)\n",
    "print(r27)\n",
    "print(mse7)"
   ]
  },
  {
   "cell_type": "markdown",
   "metadata": {},
   "source": [
    "R: O resultado melhor foi obtido no algoritmo de knn no exemplo de vendas por. Foi feito a análise com o treinamento do datasetcompleto, e \"favorece\" o resultado."
   ]
  },
  {
   "cell_type": "code",
   "execution_count": null,
   "metadata": {},
   "outputs": [],
   "source": []
  }
 ],
 "metadata": {
  "kernelspec": {
   "display_name": "Python 3",
   "language": "python",
   "name": "python3"
  },
  "language_info": {
   "codemirror_mode": {
    "name": "ipython",
    "version": 3
   },
   "file_extension": ".py",
   "mimetype": "text/x-python",
   "name": "python",
   "nbconvert_exporter": "python",
   "pygments_lexer": "ipython3",
   "version": "3.9.4"
  }
 },
 "nbformat": 4,
 "nbformat_minor": 2
}
